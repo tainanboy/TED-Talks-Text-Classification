{
 "cells": [
  {
   "cell_type": "markdown",
   "metadata": {},
   "source": [
    "## Practical 1: word2vec\n",
    "<p>Oxford CS - Deep NLP 2017<br>\n",
    "https://www.cs.ox.ac.uk/teaching/courses/2016-2017/dl/</p>\n",
    "<p>[Yannis Assael, Brendan Shillingford, Chris Dyer]</p>"
   ]
  },
  {
   "cell_type": "markdown",
   "metadata": {},
   "source": [
    "This practical is presented as an IPython Notebook, with the code written for recent versions of **Python 3**. The code in this practical will not work with Python 2 unless you modify it. If you are using your own Python installation, ensure you have a setup identical to that described in the installation shell script (which is intended for use with the department lab machines). We will be unable to support installation on personal machines due to time constraints, so please use the lab machines and the setup script if you are unfamiliar with how to install Anaconda.\n",
    "\n",
    "To execute a notebook cell, press `shift-enter`. The return value of the last command will be displayed, if it is not `None`.\n",
    "\n",
    "Potentially useful library documentation, references, and resources:\n",
    "\n",
    "* IPython notebooks: <https://ipython.org/ipython-doc/3/notebook/notebook.html#introduction>\n",
    "* Numpy numerical array library: <https://docs.scipy.org/doc/>\n",
    "* Gensim's word2vec: <https://radimrehurek.com/gensim/models/word2vec.html>\n",
    "* Bokeh interactive plots: <http://bokeh.pydata.org/en/latest/> (we provide plotting code here, but click the thumbnails for more examples to copy-paste)\n",
    "* scikit-learn ML library (aka `sklearn`): <http://scikit-learn.org/stable/documentation.html>\n",
    "* nltk NLP toolkit: <http://www.nltk.org/>\n",
    "* tutorial for processing xml in python using `lxml`: <http://lxml.de/tutorial.html> (we did this for you below, but in case you need it in the future)"
   ]
  },
  {
   "cell_type": "code",
   "execution_count": 1,
   "metadata": {},
   "outputs": [
    {
     "name": "stdout",
     "output_type": "stream",
     "text": [
      "3.5.2 (default, Oct 11 2016, 22:35:00) \n",
      "[GCC 4.2.1 Compatible Apple LLVM 8.0.0 (clang-800.0.38)]\n"
     ]
    }
   ],
   "source": [
    "import numpy as np\n",
    "import os\n",
    "from random import shuffle\n",
    "import re\n",
    "import sys\n",
    "print(sys.version)"
   ]
  },
  {
   "cell_type": "code",
   "execution_count": 2,
   "metadata": {},
   "outputs": [
    {
     "data": {
      "text/html": [
       "\n",
       "    <div class=\"bk-root\">\n",
       "        <a href=\"http://bokeh.pydata.org\" target=\"_blank\" class=\"bk-logo bk-logo-small bk-logo-notebook\"></a>\n",
       "        <span id=\"91721848-a3cd-4578-8026-81355fea9e2e\">Loading BokehJS ...</span>\n",
       "    </div>"
      ]
     },
     "metadata": {},
     "output_type": "display_data"
    },
    {
     "data": {
      "application/javascript": [
       "\n",
       "(function(global) {\n",
       "  function now() {\n",
       "    return new Date();\n",
       "  }\n",
       "\n",
       "  var force = true;\n",
       "\n",
       "  if (typeof (window._bokeh_onload_callbacks) === \"undefined\" || force === true) {\n",
       "    window._bokeh_onload_callbacks = [];\n",
       "    window._bokeh_is_loading = undefined;\n",
       "  }\n",
       "\n",
       "\n",
       "  \n",
       "  if (typeof (window._bokeh_timeout) === \"undefined\" || force === true) {\n",
       "    window._bokeh_timeout = Date.now() + 5000;\n",
       "    window._bokeh_failed_load = false;\n",
       "  }\n",
       "\n",
       "  var NB_LOAD_WARNING = {'data': {'text/html':\n",
       "     \"<div style='background-color: #fdd'>\\n\"+\n",
       "     \"<p>\\n\"+\n",
       "     \"BokehJS does not appear to have successfully loaded. If loading BokehJS from CDN, this \\n\"+\n",
       "     \"may be due to a slow or bad network connection. Possible fixes:\\n\"+\n",
       "     \"</p>\\n\"+\n",
       "     \"<ul>\\n\"+\n",
       "     \"<li>re-rerun `output_notebook()` to attempt to load from CDN again, or</li>\\n\"+\n",
       "     \"<li>use INLINE resources instead, as so:</li>\\n\"+\n",
       "     \"</ul>\\n\"+\n",
       "     \"<code>\\n\"+\n",
       "     \"from bokeh.resources import INLINE\\n\"+\n",
       "     \"output_notebook(resources=INLINE)\\n\"+\n",
       "     \"</code>\\n\"+\n",
       "     \"</div>\"}};\n",
       "\n",
       "  function display_loaded() {\n",
       "    if (window.Bokeh !== undefined) {\n",
       "      document.getElementById(\"91721848-a3cd-4578-8026-81355fea9e2e\").textContent = \"BokehJS successfully loaded.\";\n",
       "    } else if (Date.now() < window._bokeh_timeout) {\n",
       "      setTimeout(display_loaded, 100)\n",
       "    }\n",
       "  }\n",
       "\n",
       "  function run_callbacks() {\n",
       "    window._bokeh_onload_callbacks.forEach(function(callback) { callback() });\n",
       "    delete window._bokeh_onload_callbacks\n",
       "    console.info(\"Bokeh: all callbacks have finished\");\n",
       "  }\n",
       "\n",
       "  function load_libs(js_urls, callback) {\n",
       "    window._bokeh_onload_callbacks.push(callback);\n",
       "    if (window._bokeh_is_loading > 0) {\n",
       "      console.log(\"Bokeh: BokehJS is being loaded, scheduling callback at\", now());\n",
       "      return null;\n",
       "    }\n",
       "    if (js_urls == null || js_urls.length === 0) {\n",
       "      run_callbacks();\n",
       "      return null;\n",
       "    }\n",
       "    console.log(\"Bokeh: BokehJS not loaded, scheduling load and callback at\", now());\n",
       "    window._bokeh_is_loading = js_urls.length;\n",
       "    for (var i = 0; i < js_urls.length; i++) {\n",
       "      var url = js_urls[i];\n",
       "      var s = document.createElement('script');\n",
       "      s.src = url;\n",
       "      s.async = false;\n",
       "      s.onreadystatechange = s.onload = function() {\n",
       "        window._bokeh_is_loading--;\n",
       "        if (window._bokeh_is_loading === 0) {\n",
       "          console.log(\"Bokeh: all BokehJS libraries loaded\");\n",
       "          run_callbacks()\n",
       "        }\n",
       "      };\n",
       "      s.onerror = function() {\n",
       "        console.warn(\"failed to load library \" + url);\n",
       "      };\n",
       "      console.log(\"Bokeh: injecting script tag for BokehJS library: \", url);\n",
       "      document.getElementsByTagName(\"head\")[0].appendChild(s);\n",
       "    }\n",
       "  };var element = document.getElementById(\"91721848-a3cd-4578-8026-81355fea9e2e\");\n",
       "  if (element == null) {\n",
       "    console.log(\"Bokeh: ERROR: autoload.js configured with elementid '91721848-a3cd-4578-8026-81355fea9e2e' but no matching script tag was found. \")\n",
       "    return false;\n",
       "  }\n",
       "\n",
       "  var js_urls = [\"https://cdn.pydata.org/bokeh/release/bokeh-0.12.4.min.js\", \"https://cdn.pydata.org/bokeh/release/bokeh-widgets-0.12.4.min.js\"];\n",
       "\n",
       "  var inline_js = [\n",
       "    function(Bokeh) {\n",
       "      Bokeh.set_log_level(\"info\");\n",
       "    },\n",
       "    \n",
       "    function(Bokeh) {\n",
       "      \n",
       "      document.getElementById(\"91721848-a3cd-4578-8026-81355fea9e2e\").textContent = \"BokehJS is loading...\";\n",
       "    },\n",
       "    function(Bokeh) {\n",
       "      console.log(\"Bokeh: injecting CSS: https://cdn.pydata.org/bokeh/release/bokeh-0.12.4.min.css\");\n",
       "      Bokeh.embed.inject_css(\"https://cdn.pydata.org/bokeh/release/bokeh-0.12.4.min.css\");\n",
       "      console.log(\"Bokeh: injecting CSS: https://cdn.pydata.org/bokeh/release/bokeh-widgets-0.12.4.min.css\");\n",
       "      Bokeh.embed.inject_css(\"https://cdn.pydata.org/bokeh/release/bokeh-widgets-0.12.4.min.css\");\n",
       "    }\n",
       "  ];\n",
       "\n",
       "  function run_inline_js() {\n",
       "    \n",
       "    if ((window.Bokeh !== undefined) || (force === true)) {\n",
       "      for (var i = 0; i < inline_js.length; i++) {\n",
       "        inline_js[i](window.Bokeh);\n",
       "      }if (force === true) {\n",
       "        display_loaded();\n",
       "      }} else if (Date.now() < window._bokeh_timeout) {\n",
       "      setTimeout(run_inline_js, 100);\n",
       "    } else if (!window._bokeh_failed_load) {\n",
       "      console.log(\"Bokeh: BokehJS failed to load within specified timeout.\");\n",
       "      window._bokeh_failed_load = true;\n",
       "    } else if (force !== true) {\n",
       "      var cell = $(document.getElementById(\"91721848-a3cd-4578-8026-81355fea9e2e\")).parents('.cell').data().cell;\n",
       "      cell.output_area.append_execute_result(NB_LOAD_WARNING)\n",
       "    }\n",
       "\n",
       "  }\n",
       "\n",
       "  if (window._bokeh_is_loading === 0) {\n",
       "    console.log(\"Bokeh: BokehJS loaded, going straight to plotting\");\n",
       "    run_inline_js();\n",
       "  } else {\n",
       "    load_libs(js_urls, function() {\n",
       "      console.log(\"Bokeh: BokehJS plotting callback run at\", now());\n",
       "      run_inline_js();\n",
       "    });\n",
       "  }\n",
       "}(this));"
      ]
     },
     "metadata": {},
     "output_type": "display_data"
    }
   ],
   "source": [
    "from bokeh.models import ColumnDataSource, LabelSet\n",
    "from bokeh.plotting import figure, show, output_file\n",
    "from bokeh.io import output_notebook\n",
    "output_notebook()"
   ]
  },
  {
   "cell_type": "markdown",
   "metadata": {},
   "source": [
    "### Part 0: Download the TED dataset"
   ]
  },
  {
   "cell_type": "code",
   "execution_count": 3,
   "metadata": {
    "collapsed": true
   },
   "outputs": [],
   "source": [
    "import urllib.request\n",
    "import zipfile\n",
    "import lxml.etree"
   ]
  },
  {
   "cell_type": "code",
   "execution_count": 4,
   "metadata": {
    "collapsed": true
   },
   "outputs": [],
   "source": [
    "# Download the dataset if it's not already there: this may take a minute as it is 75MB\n",
    "if not os.path.isfile('ted_en-20160408.zip'):\n",
    "    urllib.request.urlretrieve(\"https://wit3.fbk.eu/get.php?path=XML_releases/xml/ted_en-20160408.zip&filename=ted_en-20160408.zip\", filename=\"ted_en-20160408.zip\")"
   ]
  },
  {
   "cell_type": "code",
   "execution_count": 9,
   "metadata": {
    "collapsed": true
   },
   "outputs": [],
   "source": [
    "# For now, we're only interested in the subtitle text, so let's extract that from the XML:\n",
    "with zipfile.ZipFile('ted_en-20160408.zip', 'r') as z:\n",
    "    doc = lxml.etree.parse(z.open('ted_en-20160408.xml', 'r'))"
   ]
  },
  {
   "cell_type": "code",
   "execution_count": 10,
   "metadata": {},
   "outputs": [
    {
     "name": "stdout",
     "output_type": "stream",
     "text": [
      "<lxml.etree._ElementTree object at 0x10721e9c8>\n"
     ]
    }
   ],
   "source": [
    "print(doc)"
   ]
  },
  {
   "cell_type": "code",
   "execution_count": 11,
   "metadata": {
    "collapsed": true
   },
   "outputs": [],
   "source": [
    "input_text = '\\n'.join(doc.xpath('//content/text()'))\n",
    "del doc"
   ]
  },
  {
   "cell_type": "markdown",
   "metadata": {},
   "source": [
    "### Part 1: Preprocessing\n",
    "\n",
    "In this part, we attempt to clean up the raw subtitles a bit, so that we get only sentences. The following substring shows examples of what we're trying to get rid of. Since it's hard to define precisely what we want to get rid of, we'll just use some simple heuristics."
   ]
  },
  {
   "cell_type": "code",
   "execution_count": 6,
   "metadata": {
    "scrolled": false
   },
   "outputs": [
    {
     "data": {
      "text/plain": [
       "' baby does.\\n(Video) Hyowon Gweon: See this? (Ball squeaks) Did you see that? (Ball squeaks) Cool. See this one? (Ball squeaks) Wow.\\nLaura Schulz: Told you. (Laughs)\\n(Vide'"
      ]
     },
     "execution_count": 6,
     "metadata": {},
     "output_type": "execute_result"
    }
   ],
   "source": [
    "i = input_text.find(\"Hyowon Gweon: See this?\")\n",
    "input_text[i-20:i+150]"
   ]
  },
  {
   "cell_type": "markdown",
   "metadata": {},
   "source": [
    "Let's start by removing all parenthesized strings using a regex:"
   ]
  },
  {
   "cell_type": "code",
   "execution_count": 7,
   "metadata": {
    "collapsed": true
   },
   "outputs": [],
   "source": [
    "input_text_noparens = re.sub(r'\\([^)]*\\)', '', input_text)"
   ]
  },
  {
   "cell_type": "markdown",
   "metadata": {},
   "source": [
    "We can verify the same location in the text is now clean as follows. We won't worry about the irregular spaces since we'll later split the text into sentences and tokenize it anyway."
   ]
  },
  {
   "cell_type": "code",
   "execution_count": 9,
   "metadata": {},
   "outputs": [
    {
     "data": {
      "text/plain": [
       "\"hat the baby does.\\n Hyowon Gweon: See this?  Did you see that?  Cool. See this one?  Wow.\\nLaura Schulz: Told you. \\n HG: See this one?  Hey Clara, this one's for you. You \""
      ]
     },
     "execution_count": 9,
     "metadata": {},
     "output_type": "execute_result"
    }
   ],
   "source": [
    "i = input_text_noparens.find(\"Hyowon Gweon: See this?\")\n",
    "input_text_noparens[i-20:i+150]"
   ]
  },
  {
   "cell_type": "markdown",
   "metadata": {},
   "source": [
    "Now, let's attempt to remove speakers' names that occur at the beginning of a line, by deleting pieces of the form \"`<up to 20 characters>:`\", as shown in this example. Of course, this is an imperfect heuristic. "
   ]
  },
  {
   "cell_type": "code",
   "execution_count": 10,
   "metadata": {},
   "outputs": [
    {
     "data": {
      "text/plain": [
       "[\"Here are two reasons companies fail: they only do more of the same, or they only do what's new\",\n",
       " 'To me the real, real solution to quality growth is figuring out the balance between two activities: exploration and exploitation',\n",
       " ' Both are necessary, but it can be too much of a good thing',\n",
       " 'Consider Facit',\n",
       " \" I'm actually old enough to remember them\"]"
      ]
     },
     "execution_count": 10,
     "metadata": {},
     "output_type": "execute_result"
    }
   ],
   "source": [
    "sentences_strings_ted = []\n",
    "for line in input_text_noparens.split('\\n'):\n",
    "    m = re.match(r'^(?:(?P<precolon>[^:]{,20}):)?(?P<postcolon>.*)$', line)\n",
    "    sentences_strings_ted.extend(sent for sent in m.groupdict()['postcolon'].split('.') if sent)\n",
    "\n",
    "# Uncomment if you need to save some RAM: these strings are about 50MB.\n",
    "# del input_text, input_text_noparens\n",
    "\n",
    "# Let's view the first few:\n",
    "sentences_strings_ted[:5]"
   ]
  },
  {
   "cell_type": "markdown",
   "metadata": {},
   "source": [
    "Now that we have sentences, we're ready to tokenize each of them into words. This tokenization is imperfect, of course. For instance, how many tokens is \"can't\", and where/how do we split it? We'll take the simplest naive approach of splitting on spaces. Before splitting, we remove non-alphanumeric characters, such as punctuation. You may want to consider the following question: why do we replace these characters with spaces rather than deleting them? Think of a case where this yields a different answer."
   ]
  },
  {
   "cell_type": "code",
   "execution_count": 11,
   "metadata": {
    "collapsed": true
   },
   "outputs": [],
   "source": [
    "sentences_ted = []\n",
    "for sent_str in sentences_strings_ted:\n",
    "    tokens = re.sub(r\"[^a-z0-9]+\", \" \", sent_str.lower()).split()\n",
    "    sentences_ted.append(tokens)"
   ]
  },
  {
   "cell_type": "markdown",
   "metadata": {},
   "source": [
    "Two sample processed sentences:"
   ]
  },
  {
   "cell_type": "code",
   "execution_count": 13,
   "metadata": {},
   "outputs": [
    {
     "data": {
      "text/plain": [
       "list"
      ]
     },
     "execution_count": 13,
     "metadata": {},
     "output_type": "execute_result"
    }
   ],
   "source": [
    "len(sentences_ted)\n",
    "type(sentences_ted)"
   ]
  },
  {
   "cell_type": "code",
   "execution_count": 88,
   "metadata": {},
   "outputs": [
    {
     "name": "stdout",
     "output_type": "stream",
     "text": [
      "<class 'list'>\n",
      "['to', 'me', 'the', 'real', 'real', 'solution', 'to', 'quality', 'growth', 'is', 'figuring', 'out', 'the', 'balance', 'between', 'two', 'activities', 'exploration', 'and', 'exploitation']\n",
      "['both', 'are', 'necessary', 'but', 'it', 'can', 'be', 'too', 'much', 'of', 'a', 'good', 'thing']\n",
      "<class 'str'>\n"
     ]
    }
   ],
   "source": [
    "print(type(sentences_ted[0]))\n",
    "print(sentences_ted[1])\n",
    "print(sentences_ted[2])\n",
    "print(type(sentences_ted[2][0]))"
   ]
  },
  {
   "cell_type": "markdown",
   "metadata": {},
   "source": [
    "### Part 2: Word Frequencies"
   ]
  },
  {
   "cell_type": "markdown",
   "metadata": {},
   "source": [
    "If you store the counts of the top 1000 words in a list called `counts_ted_top1000`, the code below will plot the histogram requested in the writeup."
   ]
  },
  {
   "cell_type": "code",
   "execution_count": 89,
   "metadata": {},
   "outputs": [
    {
     "name": "stdout",
     "output_type": "stream",
     "text": [
      "<class 'collections.Counter'>\n",
      "149305\n",
      "[('the', 207748), ('and', 149305), ('to', 125169), ('of', 114818), ('a', 105399), ('that', 95146), ('i', 83180), ('in', 78070), ('it', 74738), ('you', 70923), ('we', 67629), ('is', 63251), ('s', 57156), ('this', 49241), ('so', 37014), ('they', 33102), ('was', 30806), ('for', 29713), ('are', 27995), ('have', 27344), ('but', 26732), ('what', 26519), ('on', 25962), ('with', 24706), ('can', 23377), ('t', 22757), ('about', 21246), ('there', 21041), ('be', 20201), ('as', 19488), ('at', 19216), ('all', 19021), ('not', 18626), ('do', 17928), ('my', 17908), ('one', 17551), ('re', 17012), ('people', 16723), ('like', 16273), ('if', 15868), ('from', 15452), ('now', 14387), ('our', 14061), ('he', 13986), ('an', 13917), ('just', 13896), ('these', 13882), ('or', 13864), ('when', 13278), ('because', 12879), ('very', 12363), ('me', 12302), ('out', 12163), ('by', 11935), ('them', 11595), ('how', 11576), ('know', 11506), ('up', 11445), ('going', 11366), ('had', 10902), ('more', 10900), ('think', 10463), ('who', 10446), ('were', 10180), ('see', 10179), ('your', 10091), ('their', 10029), ('which', 10021), ('would', 9911), ('here', 9872), ('really', 9675), ('get', 9376), ('ve', 9312), ('then', 9239), ('m', 9160), ('world', 8906), ('us', 8841), ('time', 8823), ('some', 8629), ('has', 8262), ('don', 8256), ('actually', 8011), ('into', 7858), ('way', 7735), ('where', 7724), ('will', 7617), ('years', 7537), ('things', 7536), ('other', 7281), ('no', 7227), ('could', 7183), ('go', 7168), ('well', 7141), ('want', 7119), ('been', 6937), ('make', 6806), ('right', 6521), ('she', 6424), ('said', 6358), ('something', 6307), ('those', 6292), ('first', 6229), ('two', 6207), ('than', 5972), ('much', 5907), ('also', 5695), ('look', 5684), ('new', 5571), ('thing', 5552), ('little', 5501), ('got', 5456), ('back', 5379), ('over', 5374), ('most', 5312), ('say', 5275), ('even', 5220), ('his', 5197), ('life', 5175), ('only', 5153), ('work', 5133), ('many', 4935), ('take', 4929), ('need', 4919), ('did', 4660), ('lot', 4546), ('kind', 4544), ('why', 4511), ('good', 4485), ('around', 4454), ('every', 4399), ('different', 4299), ('down', 4143), ('ll', 4132), ('let', 4130), ('her', 4120), ('through', 4079), ('same', 4034), ('being', 3971), ('come', 3968), ('d', 3799), ('day', 3798), ('year', 3791), ('three', 3787), ('use', 3786), ('doing', 3707), ('put', 3611), ('called', 3494), ('any', 3449), ('today', 3364), ('percent', 3346), ('made', 3301), ('after', 3245), ('thank', 3217), ('tell', 3201), ('great', 3188), ('human', 3171), ('find', 3080), ('didn', 3032), ('fact', 3031), ('talk', 2999), ('change', 2983), ('started', 2916), ('another', 2914), ('idea', 2899), ('big', 2873), ('last', 2869), ('own', 2861), ('before', 2856), ('its', 2846), ('never', 2779), ('should', 2778), ('better', 2775), ('give', 2757), ('thought', 2745), ('went', 2726), ('might', 2701), ('important', 2674), ('000', 2644), ('again', 2636), ('able', 2616), ('together', 2616), ('still', 2613), ('problem', 2601), ('off', 2586), ('next', 2579), ('part', 2563), ('course', 2561), ('system', 2532), ('him', 2514), ('does', 2513), ('each', 2505), ('start', 2495), ('show', 2478), ('long', 2460), ('ago', 2457), ('story', 2455), ('came', 2451), ('brain', 2412), ('few', 2374), ('bit', 2342), ('between', 2340), ('used', 2332), ('place', 2327), ('technology', 2306), ('women', 2291), ('too', 2268), ('old', 2265), ('mean', 2245), ('data', 2244), ('water', 2240), ('looking', 2225), ('question', 2197), ('maybe', 2195), ('found', 2194), ('love', 2192), ('doesn', 2162), ('end', 2158), ('example', 2154), ('10', 2144), ('done', 2117), ('point', 2107), ('four', 2080), ('real', 2076), ('wanted', 2073), ('ever', 2065), ('school', 2045), ('understand', 2045), ('sort', 2033), ('live', 2016), ('call', 2015), ('whole', 2002), ('children', 2001), ('always', 2001), ('trying', 1979), ('may', 1977), ('person', 1961), ('away', 1950), ('believe', 1941), ('feel', 1941), ('try', 1934), ('million', 1930), ('working', 1929), ('help', 1924), ('everything', 1920), ('five', 1893), ('country', 1877), ('thinking', 1841), ('second', 1840), ('using', 1834), ('information', 1833), ('money', 1781), ('means', 1772), ('power', 1765), ('took', 1765), ('times', 1762), ('high', 1755), ('space', 1748), ('number', 1744), ('kids', 1740), ('home', 1729), ('become', 1720), ('create', 1716), ('small', 1708), ('design', 1681), ('making', 1678), ('best', 1654), ('left', 1652), ('getting', 1650), ('future', 1637), ('enough', 1636), ('man', 1635), ('quite', 1625), ('city', 1618), ('without', 1615), ('sense', 1600), ('happened', 1590), ('comes', 1585), ('social', 1584), ('probably', 1582), ('less', 1576), ('light', 1576), ('energy', 1575), ('talking', 1575), ('am', 1550), ('building', 1548), ('science', 1544), ('food', 1537), ('body', 1527), ('told', 1522), ('interesting', 1519), ('half', 1510), ('ask', 1510), ('pretty', 1492), ('play', 1482), ('hard', 1482), ('anything', 1479), ('lives', 1478), ('countries', 1469), ('such', 1466), ('coming', 1466), ('family', 1463), ('stuff', 1444), ('dollars', 1433), ('earth', 1423), ('moment', 1423), ('20', 1420), ('imagine', 1419), ('across', 1417), ('side', 1409), ('saw', 1400), ('while', 1400), ('happen', 1393), ('okay', 1390), ('once', 1390), ('build', 1389), ('having', 1387), ('men', 1386), ('later', 1382), ('experience', 1379), ('makes', 1374), ('asked', 1374), ('living', 1373), ('seen', 1357), ('says', 1357), ('room', 1353), ('hand', 1352), ('simple', 1351), ('health', 1349), ('ways', 1348), ('else', 1346), ('case', 1341), ('yet', 1334), ('almost', 1334), ('young', 1329), ('days', 1326), ('nothing', 1321), ('care', 1309), ('bad', 1309), ('happens', 1308), ('goes', 1302), ('move', 1300), ('states', 1296), ('reason', 1293), ('computer', 1291), ('open', 1285), ('africa', 1284), ('learn', 1284), ('process', 1282), ('inside', 1277), ('someone', 1270), ('six', 1269), ('far', 1268), ('mind', 1267), ('project', 1267), ('remember', 1265), ('single', 1264), ('picture', 1257), ('both', 1254), ('whether', 1249), ('problems', 1246), ('community', 1238), ('saying', 1238), ('basically', 1238), ('already', 1235), ('within', 1234), ('looked', 1214), ('myself', 1211), ('billion', 1201), ('often', 1198), ('possible', 1198), ('business', 1197), ('planet', 1191), ('global', 1190), ('everybody', 1189), ('top', 1189), ('sure', 1188), ('public', 1188), ('set', 1185), ('wrong', 1179), ('book', 1176), ('car', 1176), ('keep', 1172), ('answer', 1170), ('yes', 1170), ('oh', 1166), ('hope', 1162), ('sometimes', 1162), ('history', 1161), ('true', 1161), ('war', 1154), ('guy', 1151), ('child', 1151), ('instead', 1149), ('months', 1147), ('ideas', 1146), ('looks', 1144), ('matter', 1140), ('government', 1133), ('amazing', 1132), ('united', 1131), ('since', 1121), ('cells', 1119), ('age', 1119), ('bring', 1119), ('job', 1112), ('heard', 1109), ('until', 1108), ('face', 1107), ('wasn', 1102), ('100', 1100), ('read', 1096), ('control', 1093), ('isn', 1092), ('research', 1089), ('30', 1088), ('words', 1084), ('u', 1082), ('group', 1081), ('under', 1078), ('self', 1071), ('somebody', 1067), ('built', 1064), ('state', 1063), ('woman', 1059), ('turn', 1052), ('friends', 1051), ('beautiful', 1051), ('line', 1048), ('knew', 1047), ('couple', 1046), ('order', 1042), ('form', 1041), ('yeah', 1039), ('internet', 1038), ('middle', 1037), ('music', 1035), ('piece', 1034), ('nature', 1030), ('head', 1029), ('though', 1027), ('stop', 1024), ('everyone', 1017), ('50', 1015), ('places', 1013), ('video', 1012), ('language', 1011), ('learned', 1011), ('run', 1010), ('night', 1008), ('decided', 1007), ('word', 1004), ('study', 1004), ('cancer', 1003), ('taking', 1000), ('works', 1000), ('became', 999), ('exactly', 998), ('species', 996), ('completely', 995), ('society', 995), ('education', 992), ('against', 990), ('stories', 987), ('large', 985), ('share', 984), ('level', 983), ('heart', 982), ('america', 981), ('model', 977), ('gets', 973), ('questions', 973), ('mother', 971), ('god', 967), ('company', 966), ('turns', 961), ('ourselves', 959), ('happening', 958), ('hear', 957), ('art', 957), ('themselves', 956), ('must', 952), ('itself', 950), ('rather', 941), ('kinds', 941), ('students', 940), ('name', 939), ('hours', 936), ('disease', 935), ('front', 933), ('house', 927), ('couldn', 924), ('huge', 924), ('created', 922), ('universe', 919), ('ok', 917), ('animals', 911), ('american', 908), ('environment', 907), ('worked', 906), ('minutes', 904), ('ones', 903), ('black', 900), ('perhaps', 899), ('1', 899), ('past', 895), ('third', 893), ('along', 886), ('others', 884), ('finally', 884), ('sound', 883), ('early', 883), ('game', 881), ('thousands', 880), ('century', 878), ('based', 874), ('least', 874), ('per', 873), ('ted', 872), ('lots', 870), ('figure', 865), ('free', 864), ('guys', 860), ('particular', 860), ('happy', 859), ('news', 856), ('learning', 855), ('entire', 853), ('won', 852), ('gave', 850), ('india', 849), ('machine', 849), ('during', 845), ('systems', 844), ('air', 840), ('difference', 835), ('outside', 834), ('natural', 831), ('taken', 831), ('seven', 829), ('given', 824), ('changed', 824), ('leave', 820), ('cell', 819), ('15', 816), ('close', 812), ('behind', 810), ('cities', 810), ('full', 808), ('scale', 804), ('difficult', 803), ('china', 803), ('takes', 795), ('companies', 794), ('area', 793), ('yourself', 793), ('reality', 791), ('seeing', 789), ('easy', 783), ('turned', 781), ('cost', 780), ('eyes', 777), ('moving', 769), ('team', 769), ('population', 765), ('culture', 764), ('york', 761), ('hands', 760), ('began', 758), ('whatever', 758), ('needs', 755), ('terms', 755), ('image', 753), ('simply', 752), ('needed', 752), ('beginning', 750), ('father', 749), ('local', 748), ('realized', 747), ('media', 746), ('parents', 745), ('death', 745), ('walk', 742), ('view', 742), ('white', 740), ('market', 739), ('parts', 738), ('ocean', 737), ('eight', 735), ('economic', 735), ('powerful', 733), ('week', 732), ('known', 732), ('size', 730), ('felt', 729), ('humans', 725), ('certain', 723), ('spend', 722), ('longer', 721), ('phone', 717), ('wonderful', 714), ('cannot', 712), ('grow', 711), ('common', 711), ('center', 708), ('tried', 708), ('fish', 705), ('land', 703), ('oil', 701), ('deal', 698), ('interested', 698), ('political', 698), ('red', 697), ('gone', 695), ('amount', 694), ('weeks', 690), ('spent', 688), ('opportunity', 688), ('paper', 687), ('lost', 687), ('national', 686), ('quickly', 686), ('blue', 685), ('step', 683), ('poor', 681), ('green', 679), ('buy', 678), ('growth', 677), ('wouldn', 677), ('either', 676), ('patients', 673), ('sitting', 670), ('ability', 667), ('changes', 665), ('write', 664), ('south', 663), ('challenge', 663), ('low', 662), ('friend', 660), ('growing', 660), ('field', 659), ('2', 657), ('shows', 657), ('rest', 654), ('born', 654), ('climate', 652), ('40', 645), ('test', 643), ('street', 642), ('surface', 641), ('incredible', 641), ('average', 638), ('scientists', 637), ('value', 637), ('program', 637), ('physical', 637), ('morning', 637), ('pay', 637), ('behavior', 635), ('feeling', 635), ('girl', 635), ('hundreds', 635), ('met', 635), ('economy', 634), ('dna', 633), ('complex', 629), ('access', 628), ('risk', 627), ('animal', 626), ('structure', 625), ('feet', 623), ('attention', 622), ('anyone', 620), ('areas', 620), ('deep', 618), ('watch', 617), ('short', 615), ('absolutely', 614), ('brought', 613), ('speak', 613), ('bottom', 611), ('die', 611), ('audience', 609), ('numbers', 609), ('stage', 607), ('realize', 606), ('law', 605), ('images', 605), ('wrote', 604), ('understanding', 603), ('books', 602), ('knowledge', 602), ('literally', 602), ('movement', 601), ('giving', 599), ('ground', 599), ('eat', 598), ('force', 596), ('seems', 595), ('alone', 595), ('telling', 593), ('hold', 592), ('starting', 592), ('nice', 591), ('forward', 590), ('sea', 590), ('developed', 589), ('kid', 585), ('individual', 585), ('millions', 584), ('support', 583), ('tools', 579), ('miles', 579), ('running', 579), ('online', 578), ('result', 577), ('act', 573), ('technologies', 573), ('medical', 573), ('north', 572), ('lab', 571), ('development', 571), ('blood', 570), ('fear', 569), ('map', 568), ('nobody', 568), ('personal', 565), ('issue', 563), ('voice', 563), ('key', 562), ('material', 562), ('recently', 561), ('12', 561), ('theory', 559), ('cut', 558), ('cars', 556), ('sun', 555), ('fast', 555), ('changing', 554), ('clear', 552), ('playing', 552), ('especially', 551), ('patient', 550), ('soon', 550), ('girls', 550), ('choice', 546), ('fly', 546), ('creating', 542), ('talked', 541), ('relationship', 541), ('europe', 541), ('normal', 541), ('discovered', 541), ('gives', 540), ('generation', 539), ('dark', 534), ('showed', 533), ('type', 533), ('asking', 532), ('industry', 532), ('chance', 532), ('seem', 532), ('rate', 531), ('issues', 530), ('fun', 530), ('designed', 530), ('hour', 530), ('color', 530), ('class', 529), ('innovation', 529), ('computers', 529), ('university', 529), ('several', 529), ('english', 528), ('tiny', 528), ('focus', 527), ('save', 527), ('allow', 527), ('developing', 526), ('digital', 526), ('solve', 526), ('film', 525), ('network', 525), ('special', 524), ('wall', 522), ('baby', 521), ('situation', 521), ('solution', 520), ('reasons', 518), ('knows', 518), ('box', 518), ('stand', 517), ('dead', 517), ('meet', 517), ('anybody', 516), ('impact', 516), ('begin', 516), ('haven', 516), ('term', 515), ('pictures', 514), ('beyond', 514), ('please', 512), ('ice', 511), ('produce', 511), ('shape', 510), ('non', 509), ('cool', 505), ('robot', 505), ('resources', 505), ('groups', 504), ('likely', 504), ('stay', 504), ('truth', 503), ('major', 503), ('rights', 503), ('available', 503), ('obviously', 502), ('cause', 502), ('experiment', 502), ('evidence', 502), ('writing', 502), ('modern', 501), ('drug', 501), ('incredibly', 500), ('becomes', 500), ('guess', 498), ('aren', 498), ('bigger', 498), ('product', 496), ('nine', 496), ('drugs', 496), ('lived', 495), ('involved', 493), ('month', 492), ('perfect', 492), ('google', 492), ('similar', 490), ('effect', 490), ('putting', 490), ('eye', 489), ('pick', 489), ('message', 486), ('violence', 485), ('web', 485), ('quality', 485), ('office', 483), ('security', 483), ('evolution', 483), ('solar', 482), ('general', 482), ('basic', 482), ('indeed', 482), ('towards', 481), ('present', 480), ('drive', 480), ('worth', 479), ('send', 479), ('listen', 479), ('revolution', 478), ('hundred', 477), ('explain', 477), ('certainly', 476), ('died', 476), ('ready', 475), ('teach', 475), ('journey', 474), ('25', 474), ('walking', 473), ('hit', 473), ('led', 472), ('approach', 471), ('international', 471), ('200', 470), ('scientific', 469), ('games', 469), ('potential', 468), ('60', 468), ('communities', 468), ('crazy', 468), ('chinese', 468), ('device', 467), ('source', 465), ('camera', 465), ('sex', 464), ('rules', 464), ('carbon', 464), ('sounds', 463), ('boy', 462), ('reach', 460), ('starts', 459), ('west', 458), ('examples', 458), ('3', 456), ('software', 455), ('success', 455), ('measure', 455), ('particularly', 455), ('totally', 454), ('suddenly', 453), ('action', 452), ('college', 451), ('higher', 451), ('code', 450), ('eventually', 449), ('democracy', 445), ('among', 444), ('minute', 444), ('sit', 444), ('largest', 442), ('hospital', 441), ('showing', 441), ('notice', 440), ('period', 440), ('develop', 439), ('mass', 439), ('dream', 438), ('onto', 438), ('add', 437), ('break', 437), ('plants', 437), ('memory', 437), ('favorite', 436), ('zero', 436), ('11', 436), ('everywhere', 436), ('moved', 435), ('response', 435), ('speed', 435), ('schools', 435), ('wants', 434), ('movie', 433), ('individuals', 433), ('wait', 433), ('extremely', 433), ('table', 433), ('medicine', 432), ('anyway', 432), ('trust', 432), ('follow', 432), ('plant', 431), ('biggest', 431), ('watching', 430), ('organization', 430), ('road', 429), ('creative', 429), ('choose', 428), ('worse', 428), ('results', 427), ('500', 427), ('lead', 427), ('exciting', 426), ('grew', 425), ('materials', 425), ('jobs', 424), ('plan', 423), ('east', 423), ('positive', 423), ('poverty', 423), ('safe', 422), ('strong', 422), ('fall', 422), ('essentially', 421), ('door', 420), ('object', 420), ('continue', 419), ('happiness', 419), ('further', 419), ('vision', 419), ('son', 419), ('student', 418), ('doctor', 418), ('including', 417), ('objects', 417), ('named', 417), ('role', 417), ('extraordinary', 416), ('standing', 415), ('usually', 414), ('conversation', 414), ('african', 414), ('projects', 414), ('skin', 414), ('leaders', 414), ('models', 412), ('allowed', 412), ('supposed', 411), ('interest', 410), ('faster', 410), ('families', 409), ('fight', 409), ('police', 409), ('connected', 407), ('tree', 407), ('5', 406), ('cases', 406), ('screen', 406), ('goal', 405), ('somewhere', 405), ('buildings', 404), ('shown', 404), ('finding', 404)]\n"
     ]
    }
   ],
   "source": [
    "# ...\n",
    "from collections import Counter\n",
    "import itertools\n",
    "counts_ted_top1000 = []\n",
    "flat_sentences_ted = list(itertools.chain(*sentences_ted))\n",
    "len(flat_sentences_ted)\n",
    "print(type(Counter(flat_sentences_ted)))\n",
    "common_wordslist = Counter(flat_sentences_ted).most_common(1000)\n",
    "counts_ted_top1000 = [i[1] for i in common_wordslist]\n",
    "print(counts_ted_top1000[1])\n",
    "print(common_wordslist)"
   ]
  },
  {
   "cell_type": "markdown",
   "metadata": {},
   "source": [
    "Plot distribution of top-1000 words"
   ]
  },
  {
   "cell_type": "code",
   "execution_count": 90,
   "metadata": {},
   "outputs": [
    {
     "data": {
      "text/html": [
       "\n",
       "\n",
       "    <div class=\"bk-root\">\n",
       "        <div class=\"bk-plotdiv\" id=\"226f1991-67b7-441c-add0-b7973b5d5426\"></div>\n",
       "    </div>\n",
       "<script type=\"text/javascript\">\n",
       "  \n",
       "  (function(global) {\n",
       "    function now() {\n",
       "      return new Date();\n",
       "    }\n",
       "  \n",
       "    var force = false;\n",
       "  \n",
       "    if (typeof (window._bokeh_onload_callbacks) === \"undefined\" || force === true) {\n",
       "      window._bokeh_onload_callbacks = [];\n",
       "      window._bokeh_is_loading = undefined;\n",
       "    }\n",
       "  \n",
       "  \n",
       "    \n",
       "    if (typeof (window._bokeh_timeout) === \"undefined\" || force === true) {\n",
       "      window._bokeh_timeout = Date.now() + 0;\n",
       "      window._bokeh_failed_load = false;\n",
       "    }\n",
       "  \n",
       "    var NB_LOAD_WARNING = {'data': {'text/html':\n",
       "       \"<div style='background-color: #fdd'>\\n\"+\n",
       "       \"<p>\\n\"+\n",
       "       \"BokehJS does not appear to have successfully loaded. If loading BokehJS from CDN, this \\n\"+\n",
       "       \"may be due to a slow or bad network connection. Possible fixes:\\n\"+\n",
       "       \"</p>\\n\"+\n",
       "       \"<ul>\\n\"+\n",
       "       \"<li>re-rerun `output_notebook()` to attempt to load from CDN again, or</li>\\n\"+\n",
       "       \"<li>use INLINE resources instead, as so:</li>\\n\"+\n",
       "       \"</ul>\\n\"+\n",
       "       \"<code>\\n\"+\n",
       "       \"from bokeh.resources import INLINE\\n\"+\n",
       "       \"output_notebook(resources=INLINE)\\n\"+\n",
       "       \"</code>\\n\"+\n",
       "       \"</div>\"}};\n",
       "  \n",
       "    function display_loaded() {\n",
       "      if (window.Bokeh !== undefined) {\n",
       "        document.getElementById(\"226f1991-67b7-441c-add0-b7973b5d5426\").textContent = \"BokehJS successfully loaded.\";\n",
       "      } else if (Date.now() < window._bokeh_timeout) {\n",
       "        setTimeout(display_loaded, 100)\n",
       "      }\n",
       "    }\n",
       "  \n",
       "    function run_callbacks() {\n",
       "      window._bokeh_onload_callbacks.forEach(function(callback) { callback() });\n",
       "      delete window._bokeh_onload_callbacks\n",
       "      console.info(\"Bokeh: all callbacks have finished\");\n",
       "    }\n",
       "  \n",
       "    function load_libs(js_urls, callback) {\n",
       "      window._bokeh_onload_callbacks.push(callback);\n",
       "      if (window._bokeh_is_loading > 0) {\n",
       "        console.log(\"Bokeh: BokehJS is being loaded, scheduling callback at\", now());\n",
       "        return null;\n",
       "      }\n",
       "      if (js_urls == null || js_urls.length === 0) {\n",
       "        run_callbacks();\n",
       "        return null;\n",
       "      }\n",
       "      console.log(\"Bokeh: BokehJS not loaded, scheduling load and callback at\", now());\n",
       "      window._bokeh_is_loading = js_urls.length;\n",
       "      for (var i = 0; i < js_urls.length; i++) {\n",
       "        var url = js_urls[i];\n",
       "        var s = document.createElement('script');\n",
       "        s.src = url;\n",
       "        s.async = false;\n",
       "        s.onreadystatechange = s.onload = function() {\n",
       "          window._bokeh_is_loading--;\n",
       "          if (window._bokeh_is_loading === 0) {\n",
       "            console.log(\"Bokeh: all BokehJS libraries loaded\");\n",
       "            run_callbacks()\n",
       "          }\n",
       "        };\n",
       "        s.onerror = function() {\n",
       "          console.warn(\"failed to load library \" + url);\n",
       "        };\n",
       "        console.log(\"Bokeh: injecting script tag for BokehJS library: \", url);\n",
       "        document.getElementsByTagName(\"head\")[0].appendChild(s);\n",
       "      }\n",
       "    };var element = document.getElementById(\"226f1991-67b7-441c-add0-b7973b5d5426\");\n",
       "    if (element == null) {\n",
       "      console.log(\"Bokeh: ERROR: autoload.js configured with elementid '226f1991-67b7-441c-add0-b7973b5d5426' but no matching script tag was found. \")\n",
       "      return false;\n",
       "    }\n",
       "  \n",
       "    var js_urls = [];\n",
       "  \n",
       "    var inline_js = [\n",
       "      function(Bokeh) {\n",
       "        (function() {\n",
       "          var fn = function() {\n",
       "            var docs_json = {\"178ee6e5-0607-4c89-9e5e-0dd52d95e79b\":{\"roots\":{\"references\":[{\"attributes\":{\"dimension\":1,\"plot\":{\"id\":\"f00175f4-b0cf-44ea-9740-3652eba04249\",\"subtype\":\"Figure\",\"type\":\"Plot\"},\"ticker\":{\"id\":\"5b4e31d6-8355-4816-9ccc-ce692546a337\",\"type\":\"BasicTicker\"}},\"id\":\"94f628b3-7f89-4a47-a366-efe6d8987293\",\"type\":\"Grid\"},{\"attributes\":{},\"id\":\"cd1ccecc-6ed5-43ed-ae1c-05243ad51ead\",\"type\":\"BasicTickFormatter\"},{\"attributes\":{\"active_drag\":\"auto\",\"active_scroll\":\"auto\",\"active_tap\":\"auto\",\"tools\":[{\"id\":\"7423e490-30c4-44d4-8af6-af9702315457\",\"type\":\"PanTool\"},{\"id\":\"99be9889-7fcb-409d-91f8-fb2f7799e1eb\",\"type\":\"WheelZoomTool\"},{\"id\":\"d54fafa8-e78e-4d25-83ad-fb0afd976891\",\"type\":\"ResetTool\"},{\"id\":\"5db529ea-23a8-4cca-ad7f-0ecb12b31835\",\"type\":\"SaveTool\"}]},\"id\":\"b37e3c95-bc1a-44dd-b143-54d120e96e88\",\"type\":\"Toolbar\"},{\"attributes\":{},\"id\":\"0f82a881-608a-43fe-ac4f-d962f9b3d378\",\"type\":\"BasicTicker\"},{\"attributes\":{},\"id\":\"28dfebab-08b5-4a64-a0af-c5a4ec8d38d4\",\"type\":\"BasicTickFormatter\"},{\"attributes\":{\"plot\":null,\"text\":\"Top-1000 words distribution\"},\"id\":\"397959d4-46e0-49ba-beda-a81f82700078\",\"type\":\"Title\"},{\"attributes\":{},\"id\":\"5b4e31d6-8355-4816-9ccc-ce692546a337\",\"type\":\"BasicTicker\"},{\"attributes\":{\"bottom\":{\"value\":0},\"fill_alpha\":{\"value\":0.1},\"fill_color\":{\"value\":\"#1f77b4\"},\"left\":{\"field\":\"left\"},\"line_alpha\":{\"value\":0.1},\"line_color\":{\"value\":\"#1f77b4\"},\"right\":{\"field\":\"right\"},\"top\":{\"field\":\"top\"}},\"id\":\"97428b67-2972-4972-8178-6464f552ce86\",\"type\":\"Quad\"},{\"attributes\":{\"data_source\":{\"id\":\"7efee1b1-fef0-467e-b22d-c7127e2789a4\",\"type\":\"ColumnDataSource\"},\"glyph\":{\"id\":\"fa309ecc-27a2-4e80-8459-a42ae466a144\",\"type\":\"Quad\"},\"hover_glyph\":null,\"nonselection_glyph\":{\"id\":\"97428b67-2972-4972-8178-6464f552ce86\",\"type\":\"Quad\"},\"selection_glyph\":null},\"id\":\"e8cee81d-19c6-4dfb-a18b-2e380806ff7e\",\"type\":\"GlyphRenderer\"},{\"attributes\":{\"formatter\":{\"id\":\"cd1ccecc-6ed5-43ed-ae1c-05243ad51ead\",\"type\":\"BasicTickFormatter\"},\"plot\":{\"id\":\"f00175f4-b0cf-44ea-9740-3652eba04249\",\"subtype\":\"Figure\",\"type\":\"Plot\"},\"ticker\":{\"id\":\"0f82a881-608a-43fe-ac4f-d962f9b3d378\",\"type\":\"BasicTicker\"}},\"id\":\"c05fd9f2-57e5-4aa5-8487-276ba036edaf\",\"type\":\"LinearAxis\"},{\"attributes\":{\"bottom\":{\"value\":0},\"fill_color\":{\"value\":\"#1f77b4\"},\"left\":{\"field\":\"left\"},\"line_color\":{\"value\":\"#555555\"},\"right\":{\"field\":\"right\"},\"top\":{\"field\":\"top\"}},\"id\":\"fa309ecc-27a2-4e80-8459-a42ae466a144\",\"type\":\"Quad\"},{\"attributes\":{\"callback\":null},\"id\":\"807ff830-3e18-4220-95f0-40fb273274f2\",\"type\":\"DataRange1d\"},{\"attributes\":{\"below\":[{\"id\":\"c05fd9f2-57e5-4aa5-8487-276ba036edaf\",\"type\":\"LinearAxis\"}],\"left\":[{\"id\":\"4dc510f7-b9b4-4628-ae03-85d6f4f813fd\",\"type\":\"LinearAxis\"}],\"renderers\":[{\"id\":\"c05fd9f2-57e5-4aa5-8487-276ba036edaf\",\"type\":\"LinearAxis\"},{\"id\":\"2cc88a9b-7181-412a-9995-9706f1c6fd1f\",\"type\":\"Grid\"},{\"id\":\"4dc510f7-b9b4-4628-ae03-85d6f4f813fd\",\"type\":\"LinearAxis\"},{\"id\":\"94f628b3-7f89-4a47-a366-efe6d8987293\",\"type\":\"Grid\"},{\"id\":\"e8cee81d-19c6-4dfb-a18b-2e380806ff7e\",\"type\":\"GlyphRenderer\"}],\"title\":{\"id\":\"397959d4-46e0-49ba-beda-a81f82700078\",\"type\":\"Title\"},\"tool_events\":{\"id\":\"016b3b6a-1ad4-4e35-b6a1-f09459d160ab\",\"type\":\"ToolEvents\"},\"toolbar\":{\"id\":\"b37e3c95-bc1a-44dd-b143-54d120e96e88\",\"type\":\"Toolbar\"},\"toolbar_location\":\"above\",\"x_range\":{\"id\":\"807ff830-3e18-4220-95f0-40fb273274f2\",\"type\":\"DataRange1d\"},\"y_range\":{\"id\":\"992fa7dc-833a-48ef-9d50-23d1c993d844\",\"type\":\"DataRange1d\"}},\"id\":\"f00175f4-b0cf-44ea-9740-3652eba04249\",\"subtype\":\"Figure\",\"type\":\"Plot\"},{\"attributes\":{\"callback\":null},\"id\":\"992fa7dc-833a-48ef-9d50-23d1c993d844\",\"type\":\"DataRange1d\"},{\"attributes\":{\"formatter\":{\"id\":\"28dfebab-08b5-4a64-a0af-c5a4ec8d38d4\",\"type\":\"BasicTickFormatter\"},\"plot\":{\"id\":\"f00175f4-b0cf-44ea-9740-3652eba04249\",\"subtype\":\"Figure\",\"type\":\"Plot\"},\"ticker\":{\"id\":\"5b4e31d6-8355-4816-9ccc-ce692546a337\",\"type\":\"BasicTicker\"}},\"id\":\"4dc510f7-b9b4-4628-ae03-85d6f4f813fd\",\"type\":\"LinearAxis\"},{\"attributes\":{\"plot\":{\"id\":\"f00175f4-b0cf-44ea-9740-3652eba04249\",\"subtype\":\"Figure\",\"type\":\"Plot\"},\"ticker\":{\"id\":\"0f82a881-608a-43fe-ac4f-d962f9b3d378\",\"type\":\"BasicTicker\"}},\"id\":\"2cc88a9b-7181-412a-9995-9706f1c6fd1f\",\"type\":\"Grid\"},{\"attributes\":{\"callback\":null,\"column_names\":[\"left\",\"right\",\"top\"],\"data\":{\"left\":{\"__ndarray__\":\"AAAAAABAeUB7FK5H4VqjQHsUrkfhxrFAuB6F61HguUB7FK5H4fzAQJqZmZmZCcVAuB6F61EWyUDXo3A9CiPNQHsUrkfhl9BACtejcD2e0kCamZmZmaTUQClcj8L1qtZAuB6F61Gx2EBI4XoUrrfaQNejcD0KvtxAZ2ZmZmbE3kB7FK5HYWXgQMP1KFyPaOFACtejcL1r4kBSuB6F627jQJqZmZkZcuRA4XoUrkd15UApXI/CdXjmQHE9Cteje+dAuB6F69F+6EAAAAAAAILpQEjhehQuhepAkML1KFyI60DXo3A9iovsQB+F61G4ju1AZ2ZmZuaR7kCuR+F6FJXvQHsUrkchTPBAH4XrUbjN8EDD9ShcT0/xQGdmZmbm0PFACtejcH1S8kCuR+F6FNTyQFK4HoWrVfNA9ihcj0LX80CamZmZ2Vj0QD4K16Nw2vRA4XoUrgdc9UCF61G4nt31QClcj8I1X/ZAzczMzMzg9kBxPQrXY2L3QBWuR+H64/dAuB6F65Fl+EBcj8L1KOf4QAAAAADAaPlApHA9Clfq+UBI4XoU7mv6QOxRuB6F7fpAkML1KBxv+0AzMzMzs/D7QNejcD1KcvxAexSuR+Hz/EAfhetReHX9QMP1KFwP9/1AZ2ZmZqZ4/kAK16NwPfr+QK5H4XrUe/9AUrgehWv9/0B7FK5HgT8AQc3MzMxMgABBH4XrURjBAEFxPQrX4wEBQcP1KFyvQgFBFa5H4XqDAUFnZmZmRsQBQbgehesRBQJBCtejcN1FAkFcj8L1qIYCQa5H4Xp0xwJBAAAAAEAIA0FSuB6FC0kDQaRwPQrXiQNB9ihcj6LKA0FI4XoUbgsEQZqZmZk5TARB7FG4HgWNBEE+Ctej0M0EQZDC9SicDgVB4XoUrmdPBUEzMzMzM5AFQYXrUbj+0AVB16NwPcoRBkEpXI/ClVIGQXsUrkdhkwZBzczMzCzUBkEfhetR+BQHQXE9CtfDVQdBw/UoXI+WB0EVrkfhWtcHQWdmZmYmGAhBuB6F6/FYCEEK16NwvZkIQVyPwvWI2ghBrkfhelQbCUE=\",\"dtype\":\"float64\",\"shape\":[100]},\"right\":{\"__ndarray__\":\"exSuR+Fao0B7FK5H4caxQLgehetR4LlAexSuR+H8wECamZmZmQnFQLgehetRFslA16NwPQojzUB7FK5H4ZfQQArXo3A9ntJAmpmZmZmk1EApXI/C9arWQLgehetRsdhASOF6FK632kDXo3A9Cr7cQGdmZmZmxN5AexSuR2Fl4EDD9Shcj2jhQArXo3C9a+JAUrgehetu40CamZmZGXLkQOF6FK5HdeVAKVyPwnV45kBxPQrXo3vnQLgehevRfuhAAAAAAACC6UBI4XoULoXqQJDC9ShciOtA16NwPYqL7EAfhetRuI7tQGdmZmbmke5ArkfhehSV70B7FK5HIUzwQB+F61G4zfBAw/UoXE9P8UBnZmZm5tDxQArXo3B9UvJArkfhehTU8kBSuB6Fq1XzQPYoXI9C1/NAmpmZmdlY9EA+CtejcNr0QOF6FK4HXPVAhetRuJ7d9UApXI/CNV/2QM3MzMzM4PZAcT0K12Ni90AVrkfh+uP3QLgeheuRZfhAXI/C9Sjn+EAAAAAAwGj5QKRwPQpX6vlASOF6FO5r+kDsUbgehe36QJDC9Sgcb/tAMzMzM7Pw+0DXo3A9SnL8QHsUrkfh8/xAH4XrUXh1/UDD9ShcD/f9QGdmZmameP5ACtejcD36/kCuR+F61Hv/QFK4HoVr/f9AexSuR4E/AEHNzMzMTIAAQR+F61EYwQBBcT0K1+MBAUHD9Shcr0IBQRWuR+F6gwFBZ2ZmZkbEAUG4HoXrEQUCQQrXo3DdRQJBXI/C9aiGAkGuR+F6dMcCQQAAAABACANBUrgehQtJA0GkcD0K14kDQfYoXI+iygNBSOF6FG4LBEGamZmZOUwEQexRuB4FjQRBPgrXo9DNBEGQwvUonA4FQeF6FK5nTwVBMzMzMzOQBUGF61G4/tAFQdejcD3KEQZBKVyPwpVSBkF7FK5HYZMGQc3MzMws1AZBH4XrUfgUB0FxPQrXw1UHQcP1KFyPlgdBFa5H4VrXB0FnZmZmJhgIQbgehevxWAhBCtejcL2ZCEFcj8L1iNoIQa5H4XpUGwlBAAAAACBcCUE=\",\"dtype\":\"float64\",\"shape\":[100]},\"top\":{\"__ndarray__\":\"50H1zNSBOT/ypb1tgHIBPwsriUb5Uew+zuTFiLI04j78kGUPxTHhPh40R25oQNY+zuTFiLI00j4pPQWW1y7APsTbB2FDRsg+JT0FltcuwD4tPQWW1y6wPi09BZbXLrA+JT0FltcuwD4tPQWW1y6gPiU9BZbXLrA+LT0FltcuoD4AAAAAAAAAADU9BZbXLqA+AAAAAAAAAAAAAAAAAAAAAAAAAAAAAAAAAAAAAAAAAAAAAAAAAAAAADU9BZbXLqA+AAAAAAAAAAAAAAAAAAAAAAAAAAAAAAAANT0FltcuoD4AAAAAAAAAAAAAAAAAAAAANT0FltcuoD4AAAAAAAAAACU9BZbXLqA+AAAAAAAAAAAlPQWW1y6gPkU9BZbXLqA+AAAAAAAAAAAlPQWW1y6gPgAAAAAAAAAAJT0FltcuoD4AAAAAAAAAAAAAAAAAAAAAAAAAAAAAAAAAAAAAAAAAAAAAAAAAAAAAJT0FltcuoD4AAAAAAAAAAAAAAAAAAAAAAAAAAAAAAAAAAAAAAAAAACU9BZbXLqA+AAAAAAAAAAAAAAAAAAAAAAAAAAAAAAAAAAAAAAAAAAAlPQWW1y6gPgAAAAAAAAAAAAAAAAAAAAAAAAAAAAAAAAAAAAAAAAAART0FltcuoD4AAAAAAAAAAAAAAAAAAAAAAAAAAAAAAAAAAAAAAAAAAAAAAAAAAAAAAAAAAAAAAAAAAAAAAAAAAAAAAAAAAAAAAAAAAAAAAAAAAAAAAAAAACU9BZbXLqA+AAAAAAAAAAAAAAAAAAAAAAAAAAAAAAAAAAAAAAAAAAAAAAAAAAAAAAAAAAAAAAAAAAAAAAAAAAAAAAAAAAAAAAAAAAAAAAAAAAAAAAAAAAAAAAAAAAAAAAAAAAAAAAAAAAAAAAAAAAAAAAAAAAAAAAAAAAAAAAAAAAAAAAAAAAAAAAAAAAAAAAAAAAAAAAAAAAAAAAAAAAAAAAAAAAAAAAAAAAAAAAAAAAAAAAAAAAAAAAAAAAAAAAAAAAAAAAAAAAAAAAAAAAAAAAAAAAAAAAAAAAAAAAAAJT0FltcuoD4=\",\"dtype\":\"float64\",\"shape\":[100]}}},\"id\":\"7efee1b1-fef0-467e-b22d-c7127e2789a4\",\"type\":\"ColumnDataSource\"},{\"attributes\":{\"plot\":{\"id\":\"f00175f4-b0cf-44ea-9740-3652eba04249\",\"subtype\":\"Figure\",\"type\":\"Plot\"}},\"id\":\"d54fafa8-e78e-4d25-83ad-fb0afd976891\",\"type\":\"ResetTool\"},{\"attributes\":{},\"id\":\"016b3b6a-1ad4-4e35-b6a1-f09459d160ab\",\"type\":\"ToolEvents\"},{\"attributes\":{\"plot\":{\"id\":\"f00175f4-b0cf-44ea-9740-3652eba04249\",\"subtype\":\"Figure\",\"type\":\"Plot\"}},\"id\":\"99be9889-7fcb-409d-91f8-fb2f7799e1eb\",\"type\":\"WheelZoomTool\"},{\"attributes\":{\"plot\":{\"id\":\"f00175f4-b0cf-44ea-9740-3652eba04249\",\"subtype\":\"Figure\",\"type\":\"Plot\"}},\"id\":\"7423e490-30c4-44d4-8af6-af9702315457\",\"type\":\"PanTool\"},{\"attributes\":{\"plot\":{\"id\":\"f00175f4-b0cf-44ea-9740-3652eba04249\",\"subtype\":\"Figure\",\"type\":\"Plot\"}},\"id\":\"5db529ea-23a8-4cca-ad7f-0ecb12b31835\",\"type\":\"SaveTool\"}],\"root_ids\":[\"f00175f4-b0cf-44ea-9740-3652eba04249\"]},\"title\":\"Bokeh Application\",\"version\":\"0.12.4\"}};\n",
       "            var render_items = [{\"docid\":\"178ee6e5-0607-4c89-9e5e-0dd52d95e79b\",\"elementid\":\"226f1991-67b7-441c-add0-b7973b5d5426\",\"modelid\":\"f00175f4-b0cf-44ea-9740-3652eba04249\"}];\n",
       "            \n",
       "            Bokeh.embed.embed_items(docs_json, render_items);\n",
       "          };\n",
       "          if (document.readyState != \"loading\") fn();\n",
       "          else document.addEventListener(\"DOMContentLoaded\", fn);\n",
       "        })();\n",
       "      },\n",
       "      function(Bokeh) {\n",
       "      }\n",
       "    ];\n",
       "  \n",
       "    function run_inline_js() {\n",
       "      \n",
       "      if ((window.Bokeh !== undefined) || (force === true)) {\n",
       "        for (var i = 0; i < inline_js.length; i++) {\n",
       "          inline_js[i](window.Bokeh);\n",
       "        }if (force === true) {\n",
       "          display_loaded();\n",
       "        }} else if (Date.now() < window._bokeh_timeout) {\n",
       "        setTimeout(run_inline_js, 100);\n",
       "      } else if (!window._bokeh_failed_load) {\n",
       "        console.log(\"Bokeh: BokehJS failed to load within specified timeout.\");\n",
       "        window._bokeh_failed_load = true;\n",
       "      } else if (force !== true) {\n",
       "        var cell = $(document.getElementById(\"226f1991-67b7-441c-add0-b7973b5d5426\")).parents('.cell').data().cell;\n",
       "        cell.output_area.append_execute_result(NB_LOAD_WARNING)\n",
       "      }\n",
       "  \n",
       "    }\n",
       "  \n",
       "    if (window._bokeh_is_loading === 0) {\n",
       "      console.log(\"Bokeh: BokehJS loaded, going straight to plotting\");\n",
       "      run_inline_js();\n",
       "    } else {\n",
       "      load_libs(js_urls, function() {\n",
       "        console.log(\"Bokeh: BokehJS plotting callback run at\", now());\n",
       "        run_inline_js();\n",
       "      });\n",
       "    }\n",
       "  }(this));\n",
       "</script>"
      ]
     },
     "metadata": {},
     "output_type": "display_data"
    }
   ],
   "source": [
    "hist, edges = np.histogram(counts_ted_top1000, density=True, bins=100, normed=True)\n",
    "\n",
    "p = figure(tools=\"pan,wheel_zoom,reset,save\",\n",
    "           toolbar_location=\"above\",\n",
    "           title=\"Top-1000 words distribution\")\n",
    "p.quad(top=hist, bottom=0, left=edges[:-1], right=edges[1:], line_color=\"#555555\")\n",
    "show(p)"
   ]
  },
  {
   "cell_type": "markdown",
   "metadata": {},
   "source": [
    "### Part 3: Train Word2Vec"
   ]
  },
  {
   "cell_type": "code",
   "execution_count": 91,
   "metadata": {
    "collapsed": true
   },
   "outputs": [],
   "source": [
    "from gensim.models import Word2Vec"
   ]
  },
  {
   "cell_type": "code",
   "execution_count": 92,
   "metadata": {},
   "outputs": [
    {
     "data": {
      "text/plain": [
       "14427"
      ]
     },
     "execution_count": 92,
     "metadata": {},
     "output_type": "execute_result"
    }
   ],
   "source": [
    "# ...\n",
    "sentences = sentences_ted\n",
    "model_ted = Word2Vec(sentences, size=100, window=5, min_count=10, workers=4)\n",
    "len(model_ted.wv.vocab)"
   ]
  },
  {
   "cell_type": "markdown",
   "metadata": {},
   "source": [
    "### Part 4: Ted Learnt Representations"
   ]
  },
  {
   "cell_type": "markdown",
   "metadata": {},
   "source": [
    "Finding similar words: (see gensim docs for more functionality of `most_similar`)"
   ]
  },
  {
   "cell_type": "code",
   "execution_count": 93,
   "metadata": {},
   "outputs": [
    {
     "data": {
      "text/plain": [
       "[('woman', 0.8369792699813843),\n",
       " ('guy', 0.7940912246704102),\n",
       " ('lady', 0.7679774761199951),\n",
       " ('boy', 0.7389781475067139),\n",
       " ('girl', 0.7292609214782715),\n",
       " ('gentleman', 0.725186824798584),\n",
       " ('soldier', 0.723033607006073),\n",
       " ('friend', 0.6727584004402161),\n",
       " ('king', 0.6683400869369507),\n",
       " ('david', 0.6655623912811279)]"
      ]
     },
     "execution_count": 93,
     "metadata": {},
     "output_type": "execute_result"
    }
   ],
   "source": [
    "model_ted.most_similar(\"man\")"
   ]
  },
  {
   "cell_type": "code",
   "execution_count": 94,
   "metadata": {},
   "outputs": [
    {
     "data": {
      "text/plain": [
       "[('machine', 0.7473056316375732),\n",
       " ('robot', 0.7004569172859192),\n",
       " ('software', 0.6903493404388428),\n",
       " ('device', 0.6729776859283447),\n",
       " ('simulation', 0.6551770567893982),\n",
       " ('camera', 0.647087812423706),\n",
       " ('program', 0.6463404893875122),\n",
       " ('3d', 0.6447371244430542),\n",
       " ('printer', 0.6392284631729126),\n",
       " ('video', 0.6145389676094055)]"
      ]
     },
     "execution_count": 94,
     "metadata": {},
     "output_type": "execute_result"
    }
   ],
   "source": [
    "model_ted.most_similar(\"computer\")"
   ]
  },
  {
   "cell_type": "code",
   "execution_count": 95,
   "metadata": {},
   "outputs": [
    {
     "data": {
      "text/plain": [
       "100"
      ]
     },
     "execution_count": 95,
     "metadata": {},
     "output_type": "execute_result"
    }
   ],
   "source": [
    "# ...\n",
    "len(model_ted.wv['computer'])"
   ]
  },
  {
   "cell_type": "markdown",
   "metadata": {},
   "source": [
    "#### t-SNE visualization\n",
    "To use the t-SNE code below, first put a list of the top 1000 words (as strings) into a variable `words_top_ted`. The following code gets the corresponding vectors from the model, assuming it's called `model_ted`:"
   ]
  },
  {
   "cell_type": "code",
   "execution_count": 96,
   "metadata": {
    "collapsed": true
   },
   "outputs": [],
   "source": [
    "# This assumes words_top_ted is a list of strings, the top 1000 words\n",
    "words_top_ted = [i[0] for i in common_wordslist]\n",
    "words_top_vec_ted = model_ted[words_top_ted]"
   ]
  },
  {
   "cell_type": "code",
   "execution_count": 97,
   "metadata": {
    "collapsed": true
   },
   "outputs": [],
   "source": [
    "from sklearn.manifold import TSNE\n",
    "tsne = TSNE(n_components=2, random_state=0)\n",
    "words_top_ted_tsne = tsne.fit_transform(words_top_vec_ted)"
   ]
  },
  {
   "cell_type": "code",
   "execution_count": 98,
   "metadata": {},
   "outputs": [
    {
     "data": {
      "text/html": [
       "\n",
       "\n",
       "    <div class=\"bk-root\">\n",
       "        <div class=\"bk-plotdiv\" id=\"c5970dbf-03e5-461f-b908-ec3c35a90d6c\"></div>\n",
       "    </div>\n",
       "<script type=\"text/javascript\">\n",
       "  \n",
       "  (function(global) {\n",
       "    function now() {\n",
       "      return new Date();\n",
       "    }\n",
       "  \n",
       "    var force = false;\n",
       "  \n",
       "    if (typeof (window._bokeh_onload_callbacks) === \"undefined\" || force === true) {\n",
       "      window._bokeh_onload_callbacks = [];\n",
       "      window._bokeh_is_loading = undefined;\n",
       "    }\n",
       "  \n",
       "  \n",
       "    \n",
       "    if (typeof (window._bokeh_timeout) === \"undefined\" || force === true) {\n",
       "      window._bokeh_timeout = Date.now() + 0;\n",
       "      window._bokeh_failed_load = false;\n",
       "    }\n",
       "  \n",
       "    var NB_LOAD_WARNING = {'data': {'text/html':\n",
       "       \"<div style='background-color: #fdd'>\\n\"+\n",
       "       \"<p>\\n\"+\n",
       "       \"BokehJS does not appear to have successfully loaded. If loading BokehJS from CDN, this \\n\"+\n",
       "       \"may be due to a slow or bad network connection. Possible fixes:\\n\"+\n",
       "       \"</p>\\n\"+\n",
       "       \"<ul>\\n\"+\n",
       "       \"<li>re-rerun `output_notebook()` to attempt to load from CDN again, or</li>\\n\"+\n",
       "       \"<li>use INLINE resources instead, as so:</li>\\n\"+\n",
       "       \"</ul>\\n\"+\n",
       "       \"<code>\\n\"+\n",
       "       \"from bokeh.resources import INLINE\\n\"+\n",
       "       \"output_notebook(resources=INLINE)\\n\"+\n",
       "       \"</code>\\n\"+\n",
       "       \"</div>\"}};\n",
       "  \n",
       "    function display_loaded() {\n",
       "      if (window.Bokeh !== undefined) {\n",
       "        document.getElementById(\"c5970dbf-03e5-461f-b908-ec3c35a90d6c\").textContent = \"BokehJS successfully loaded.\";\n",
       "      } else if (Date.now() < window._bokeh_timeout) {\n",
       "        setTimeout(display_loaded, 100)\n",
       "      }\n",
       "    }\n",
       "  \n",
       "    function run_callbacks() {\n",
       "      window._bokeh_onload_callbacks.forEach(function(callback) { callback() });\n",
       "      delete window._bokeh_onload_callbacks\n",
       "      console.info(\"Bokeh: all callbacks have finished\");\n",
       "    }\n",
       "  \n",
       "    function load_libs(js_urls, callback) {\n",
       "      window._bokeh_onload_callbacks.push(callback);\n",
       "      if (window._bokeh_is_loading > 0) {\n",
       "        console.log(\"Bokeh: BokehJS is being loaded, scheduling callback at\", now());\n",
       "        return null;\n",
       "      }\n",
       "      if (js_urls == null || js_urls.length === 0) {\n",
       "        run_callbacks();\n",
       "        return null;\n",
       "      }\n",
       "      console.log(\"Bokeh: BokehJS not loaded, scheduling load and callback at\", now());\n",
       "      window._bokeh_is_loading = js_urls.length;\n",
       "      for (var i = 0; i < js_urls.length; i++) {\n",
       "        var url = js_urls[i];\n",
       "        var s = document.createElement('script');\n",
       "        s.src = url;\n",
       "        s.async = false;\n",
       "        s.onreadystatechange = s.onload = function() {\n",
       "          window._bokeh_is_loading--;\n",
       "          if (window._bokeh_is_loading === 0) {\n",
       "            console.log(\"Bokeh: all BokehJS libraries loaded\");\n",
       "            run_callbacks()\n",
       "          }\n",
       "        };\n",
       "        s.onerror = function() {\n",
       "          console.warn(\"failed to load library \" + url);\n",
       "        };\n",
       "        console.log(\"Bokeh: injecting script tag for BokehJS library: \", url);\n",
       "        document.getElementsByTagName(\"head\")[0].appendChild(s);\n",
       "      }\n",
       "    };var element = document.getElementById(\"c5970dbf-03e5-461f-b908-ec3c35a90d6c\");\n",
       "    if (element == null) {\n",
       "      console.log(\"Bokeh: ERROR: autoload.js configured with elementid 'c5970dbf-03e5-461f-b908-ec3c35a90d6c' but no matching script tag was found. \")\n",
       "      return false;\n",
       "    }\n",
       "  \n",
       "    var js_urls = [];\n",
       "  \n",
       "    var inline_js = [\n",
       "      function(Bokeh) {\n",
       "        (function() {\n",
       "          var fn = function() {\n",
       "            var docs_json = {\"555bcffa-2983-442a-a1dc-8555983797d3\":{\"roots\":{\"references\":[{\"attributes\":{\"callback\":null},\"id\":\"0a468225-e97f-46dd-b75e-1d053eee6b98\",\"type\":\"DataRange1d\"},{\"attributes\":{\"formatter\":{\"id\":\"be6b8620-eb2e-4eb3-bbe3-130ace814da9\",\"type\":\"BasicTickFormatter\"},\"plot\":{\"id\":\"1ac1f0c3-7c79-4ce9-b26d-082b3166f6b9\",\"subtype\":\"Figure\",\"type\":\"Plot\"},\"ticker\":{\"id\":\"22137f22-c7d1-4247-aab1-602ca85eedbb\",\"type\":\"BasicTicker\"}},\"id\":\"dc79129c-ca1e-4a56-83a9-010ae00cd6b9\",\"type\":\"LinearAxis\"},{\"attributes\":{\"plot\":{\"id\":\"1ac1f0c3-7c79-4ce9-b26d-082b3166f6b9\",\"subtype\":\"Figure\",\"type\":\"Plot\"}},\"id\":\"27dd2960-6564-45ed-884f-ac66be21d2a3\",\"type\":\"ResetTool\"},{\"attributes\":{\"plot\":null,\"text\":\"word2vec T-SNE for most common words\"},\"id\":\"c51366ff-56b0-405e-abef-3eae75ad9142\",\"type\":\"Title\"},{\"attributes\":{\"data_source\":{\"id\":\"4f95534f-c38c-45e1-ad9b-e8dfd7a6d1e3\",\"type\":\"ColumnDataSource\"},\"glyph\":{\"id\":\"ae5ac14d-23f0-4079-9641-a70d7dc3d30c\",\"type\":\"Circle\"},\"hover_glyph\":null,\"nonselection_glyph\":{\"id\":\"efe402b6-b99d-45c3-9efa-f5ff875097b5\",\"type\":\"Circle\"},\"selection_glyph\":null},\"id\":\"2f88ec78-6a54-43ee-968b-6b5d20a7cea8\",\"type\":\"GlyphRenderer\"},{\"attributes\":{},\"id\":\"3fe99a89-eb2c-4bd4-ab9d-9b475848e95c\",\"type\":\"ToolEvents\"},{\"attributes\":{\"callback\":null},\"id\":\"b95cc0d9-9036-4903-8371-24418ad738f8\",\"type\":\"DataRange1d\"},{\"attributes\":{\"plot\":{\"id\":\"1ac1f0c3-7c79-4ce9-b26d-082b3166f6b9\",\"subtype\":\"Figure\",\"type\":\"Plot\"},\"ticker\":{\"id\":\"75041c30-aa21-475d-8d3f-ab826b78f6bc\",\"type\":\"BasicTicker\"}},\"id\":\"5c542b78-c64d-43a6-a078-7be765b23f1a\",\"type\":\"Grid\"},{\"attributes\":{\"formatter\":{\"id\":\"efb57266-6a72-44d2-827c-bde1ad32c630\",\"type\":\"BasicTickFormatter\"},\"plot\":{\"id\":\"1ac1f0c3-7c79-4ce9-b26d-082b3166f6b9\",\"subtype\":\"Figure\",\"type\":\"Plot\"},\"ticker\":{\"id\":\"75041c30-aa21-475d-8d3f-ab826b78f6bc\",\"type\":\"BasicTicker\"}},\"id\":\"55137b9d-9a8a-4935-8868-8c09b840d6d5\",\"type\":\"LinearAxis\"},{\"attributes\":{\"below\":[{\"id\":\"55137b9d-9a8a-4935-8868-8c09b840d6d5\",\"type\":\"LinearAxis\"}],\"left\":[{\"id\":\"dc79129c-ca1e-4a56-83a9-010ae00cd6b9\",\"type\":\"LinearAxis\"}],\"renderers\":[{\"id\":\"55137b9d-9a8a-4935-8868-8c09b840d6d5\",\"type\":\"LinearAxis\"},{\"id\":\"5c542b78-c64d-43a6-a078-7be765b23f1a\",\"type\":\"Grid\"},{\"id\":\"dc79129c-ca1e-4a56-83a9-010ae00cd6b9\",\"type\":\"LinearAxis\"},{\"id\":\"0be4840e-428b-42a6-8ac3-c290cf928caa\",\"type\":\"Grid\"},{\"id\":\"2f88ec78-6a54-43ee-968b-6b5d20a7cea8\",\"type\":\"GlyphRenderer\"},{\"id\":\"e8136b8f-6c64-46d3-8b9e-df673ecdbbd5\",\"type\":\"LabelSet\"}],\"title\":{\"id\":\"c51366ff-56b0-405e-abef-3eae75ad9142\",\"type\":\"Title\"},\"tool_events\":{\"id\":\"3fe99a89-eb2c-4bd4-ab9d-9b475848e95c\",\"type\":\"ToolEvents\"},\"toolbar\":{\"id\":\"b9fdd027-8025-46ec-9bdc-18aaa7ea3abe\",\"type\":\"Toolbar\"},\"toolbar_location\":\"above\",\"x_range\":{\"id\":\"0a468225-e97f-46dd-b75e-1d053eee6b98\",\"type\":\"DataRange1d\"},\"y_range\":{\"id\":\"b95cc0d9-9036-4903-8371-24418ad738f8\",\"type\":\"DataRange1d\"}},\"id\":\"1ac1f0c3-7c79-4ce9-b26d-082b3166f6b9\",\"subtype\":\"Figure\",\"type\":\"Plot\"},{\"attributes\":{\"plot\":{\"id\":\"1ac1f0c3-7c79-4ce9-b26d-082b3166f6b9\",\"subtype\":\"Figure\",\"type\":\"Plot\"}},\"id\":\"8ec2ba32-a467-4fee-b663-0921d2a6a9cf\",\"type\":\"WheelZoomTool\"},{\"attributes\":{\"callback\":null,\"column_names\":[\"names\",\"x2\",\"x1\"],\"data\":{\"names\":[\"the\",\"and\",\"to\",\"of\",\"a\",\"that\",\"i\",\"in\",\"it\",\"you\",\"we\",\"is\",\"s\",\"this\",\"so\",\"they\",\"was\",\"for\",\"are\",\"have\",\"but\",\"what\",\"on\",\"with\",\"can\",\"t\",\"about\",\"there\",\"be\",\"as\",\"at\",\"all\",\"not\",\"do\",\"my\",\"one\",\"re\",\"people\",\"like\",\"if\",\"from\",\"now\",\"our\",\"he\",\"an\",\"just\",\"these\",\"or\",\"when\",\"because\",\"very\",\"me\",\"out\",\"by\",\"them\",\"how\",\"know\",\"up\",\"going\",\"had\",\"more\",\"think\",\"who\",\"were\",\"see\",\"your\",\"their\",\"which\",\"would\",\"here\",\"really\",\"get\",\"ve\",\"then\",\"m\",\"world\",\"us\",\"time\",\"some\",\"has\",\"don\",\"actually\",\"into\",\"way\",\"where\",\"will\",\"years\",\"things\",\"other\",\"no\",\"could\",\"go\",\"well\",\"want\",\"been\",\"make\",\"right\",\"she\",\"said\",\"something\",\"those\",\"first\",\"two\",\"than\",\"much\",\"also\",\"look\",\"new\",\"thing\",\"little\",\"got\",\"back\",\"over\",\"most\",\"say\",\"even\",\"his\",\"life\",\"only\",\"work\",\"many\",\"take\",\"need\",\"did\",\"lot\",\"kind\",\"why\",\"good\",\"around\",\"every\",\"different\",\"down\",\"ll\",\"let\",\"her\",\"through\",\"same\",\"being\",\"come\",\"d\",\"day\",\"year\",\"three\",\"use\",\"doing\",\"put\",\"called\",\"any\",\"today\",\"percent\",\"made\",\"after\",\"thank\",\"tell\",\"great\",\"human\",\"find\",\"didn\",\"fact\",\"talk\",\"change\",\"started\",\"another\",\"idea\",\"big\",\"last\",\"own\",\"before\",\"its\",\"never\",\"should\",\"better\",\"give\",\"thought\",\"went\",\"might\",\"important\",\"000\",\"again\",\"able\",\"together\",\"still\",\"problem\",\"off\",\"next\",\"part\",\"course\",\"system\",\"him\",\"does\",\"each\",\"start\",\"show\",\"long\",\"ago\",\"story\",\"came\",\"brain\",\"few\",\"bit\",\"between\",\"used\",\"place\",\"technology\",\"women\",\"too\",\"old\",\"mean\",\"data\",\"water\",\"looking\",\"question\",\"maybe\",\"found\",\"love\",\"doesn\",\"end\",\"example\",\"10\",\"done\",\"point\",\"four\",\"real\",\"wanted\",\"ever\",\"school\",\"understand\",\"sort\",\"live\",\"call\",\"whole\",\"children\",\"always\",\"trying\",\"may\",\"person\",\"away\",\"believe\",\"feel\",\"try\",\"million\",\"working\",\"help\",\"everything\",\"five\",\"country\",\"thinking\",\"second\",\"using\",\"information\",\"money\",\"means\",\"power\",\"took\",\"times\",\"high\",\"space\",\"number\",\"kids\",\"home\",\"become\",\"create\",\"small\",\"design\",\"making\",\"best\",\"left\",\"getting\",\"future\",\"enough\",\"man\",\"quite\",\"city\",\"without\",\"sense\",\"happened\",\"comes\",\"social\",\"probably\",\"less\",\"light\",\"energy\",\"talking\",\"am\",\"building\",\"science\",\"food\",\"body\",\"told\",\"interesting\",\"half\",\"ask\",\"pretty\",\"play\",\"hard\",\"anything\",\"lives\",\"countries\",\"such\",\"coming\",\"family\",\"stuff\",\"dollars\",\"earth\",\"moment\",\"20\",\"imagine\",\"across\",\"side\",\"saw\",\"while\",\"happen\",\"okay\",\"once\",\"build\",\"having\",\"men\",\"later\",\"experience\",\"makes\",\"asked\",\"living\",\"seen\",\"says\",\"room\",\"hand\",\"simple\",\"health\",\"ways\",\"else\",\"case\",\"yet\",\"almost\",\"young\",\"days\",\"nothing\",\"care\",\"bad\",\"happens\",\"goes\",\"move\",\"states\",\"reason\",\"computer\",\"open\",\"africa\",\"learn\",\"process\",\"inside\",\"someone\",\"six\",\"far\",\"mind\",\"project\",\"remember\",\"single\",\"picture\",\"both\",\"whether\",\"problems\",\"community\",\"saying\",\"basically\",\"already\",\"within\",\"looked\",\"myself\",\"billion\",\"often\",\"possible\",\"business\",\"planet\",\"global\",\"everybody\",\"top\",\"sure\",\"public\",\"set\",\"wrong\",\"book\",\"car\",\"keep\",\"answer\",\"yes\",\"oh\",\"hope\",\"sometimes\",\"history\",\"true\",\"war\",\"guy\",\"child\",\"instead\",\"months\",\"ideas\",\"looks\",\"matter\",\"government\",\"amazing\",\"united\",\"since\",\"cells\",\"age\",\"bring\",\"job\",\"heard\",\"until\",\"face\",\"wasn\",\"100\",\"read\",\"control\",\"isn\",\"research\",\"30\",\"words\",\"u\",\"group\",\"under\",\"self\",\"somebody\",\"built\",\"state\",\"woman\",\"turn\",\"friends\",\"beautiful\",\"line\",\"knew\",\"couple\",\"order\",\"form\",\"yeah\",\"internet\",\"middle\",\"music\",\"piece\",\"nature\",\"head\",\"though\",\"stop\",\"everyone\",\"50\",\"places\",\"video\",\"language\",\"learned\",\"run\",\"night\",\"decided\",\"word\",\"study\",\"cancer\",\"taking\",\"works\",\"became\",\"exactly\",\"species\",\"completely\",\"society\",\"education\",\"against\",\"stories\",\"large\",\"share\",\"level\",\"heart\",\"america\",\"model\",\"gets\",\"questions\",\"mother\",\"god\",\"company\",\"turns\",\"ourselves\",\"happening\",\"hear\",\"art\",\"themselves\",\"must\",\"itself\",\"rather\",\"kinds\",\"students\",\"name\",\"hours\",\"disease\",\"front\",\"house\",\"couldn\",\"huge\",\"created\",\"universe\",\"ok\",\"animals\",\"american\",\"environment\",\"worked\",\"minutes\",\"ones\",\"black\",\"perhaps\",\"1\",\"past\",\"third\",\"along\",\"others\",\"finally\",\"sound\",\"early\",\"game\",\"thousands\",\"century\",\"based\",\"least\",\"per\",\"ted\",\"lots\",\"figure\",\"free\",\"guys\",\"particular\",\"happy\",\"news\",\"learning\",\"entire\",\"won\",\"gave\",\"india\",\"machine\",\"during\",\"systems\",\"air\",\"difference\",\"outside\",\"natural\",\"taken\",\"seven\",\"given\",\"changed\",\"leave\",\"cell\",\"15\",\"close\",\"behind\",\"cities\",\"full\",\"scale\",\"difficult\",\"china\",\"takes\",\"companies\",\"area\",\"yourself\",\"reality\",\"seeing\",\"easy\",\"turned\",\"cost\",\"eyes\",\"moving\",\"team\",\"population\",\"culture\",\"york\",\"hands\",\"began\",\"whatever\",\"needs\",\"terms\",\"image\",\"simply\",\"needed\",\"beginning\",\"father\",\"local\",\"realized\",\"media\",\"parents\",\"death\",\"walk\",\"view\",\"white\",\"market\",\"parts\",\"ocean\",\"eight\",\"economic\",\"powerful\",\"week\",\"known\",\"size\",\"felt\",\"humans\",\"certain\",\"spend\",\"longer\",\"phone\",\"wonderful\",\"cannot\",\"grow\",\"common\",\"center\",\"tried\",\"fish\",\"land\",\"oil\",\"deal\",\"interested\",\"political\",\"red\",\"gone\",\"amount\",\"weeks\",\"spent\",\"opportunity\",\"paper\",\"lost\",\"national\",\"quickly\",\"blue\",\"step\",\"poor\",\"green\",\"buy\",\"growth\",\"wouldn\",\"either\",\"patients\",\"sitting\",\"ability\",\"changes\",\"write\",\"south\",\"challenge\",\"low\",\"friend\",\"growing\",\"field\",\"2\",\"shows\",\"rest\",\"born\",\"climate\",\"40\",\"test\",\"street\",\"surface\",\"incredible\",\"average\",\"scientists\",\"value\",\"program\",\"physical\",\"morning\",\"pay\",\"behavior\",\"feeling\",\"girl\",\"hundreds\",\"met\",\"economy\",\"dna\",\"complex\",\"access\",\"risk\",\"animal\",\"structure\",\"feet\",\"attention\",\"anyone\",\"areas\",\"deep\",\"watch\",\"short\",\"absolutely\",\"brought\",\"speak\",\"bottom\",\"die\",\"audience\",\"numbers\",\"stage\",\"realize\",\"law\",\"images\",\"wrote\",\"understanding\",\"books\",\"knowledge\",\"literally\",\"movement\",\"giving\",\"ground\",\"eat\",\"force\",\"seems\",\"alone\",\"telling\",\"hold\",\"starting\",\"nice\",\"forward\",\"sea\",\"developed\",\"kid\",\"individual\",\"millions\",\"support\",\"tools\",\"miles\",\"running\",\"online\",\"result\",\"act\",\"technologies\",\"medical\",\"north\",\"lab\",\"development\",\"blood\",\"fear\",\"map\",\"nobody\",\"personal\",\"issue\",\"voice\",\"key\",\"material\",\"recently\",\"12\",\"theory\",\"cut\",\"cars\",\"sun\",\"fast\",\"changing\",\"clear\",\"playing\",\"especially\",\"patient\",\"soon\",\"girls\",\"choice\",\"fly\",\"creating\",\"talked\",\"relationship\",\"europe\",\"normal\",\"discovered\",\"gives\",\"generation\",\"dark\",\"showed\",\"type\",\"asking\",\"industry\",\"chance\",\"seem\",\"rate\",\"issues\",\"fun\",\"designed\",\"hour\",\"color\",\"class\",\"innovation\",\"computers\",\"university\",\"several\",\"english\",\"tiny\",\"focus\",\"save\",\"allow\",\"developing\",\"digital\",\"solve\",\"film\",\"network\",\"special\",\"wall\",\"baby\",\"situation\",\"solution\",\"reasons\",\"knows\",\"box\",\"stand\",\"dead\",\"meet\",\"anybody\",\"impact\",\"begin\",\"haven\",\"term\",\"pictures\",\"beyond\",\"please\",\"ice\",\"produce\",\"shape\",\"non\",\"cool\",\"robot\",\"resources\",\"groups\",\"likely\",\"stay\",\"truth\",\"major\",\"rights\",\"available\",\"obviously\",\"cause\",\"experiment\",\"evidence\",\"writing\",\"modern\",\"drug\",\"incredibly\",\"becomes\",\"guess\",\"aren\",\"bigger\",\"product\",\"nine\",\"drugs\",\"lived\",\"involved\",\"month\",\"perfect\",\"google\",\"similar\",\"effect\",\"putting\",\"eye\",\"pick\",\"message\",\"violence\",\"web\",\"quality\",\"office\",\"security\",\"evolution\",\"solar\",\"general\",\"basic\",\"indeed\",\"towards\",\"present\",\"drive\",\"worth\",\"send\",\"listen\",\"revolution\",\"hundred\",\"explain\",\"certainly\",\"died\",\"ready\",\"teach\",\"journey\",\"25\",\"walking\",\"hit\",\"led\",\"approach\",\"international\",\"200\",\"scientific\",\"games\",\"potential\",\"60\",\"communities\",\"crazy\",\"chinese\",\"device\",\"source\",\"camera\",\"sex\",\"rules\",\"carbon\",\"sounds\",\"boy\",\"reach\",\"starts\",\"west\",\"examples\",\"3\",\"software\",\"success\",\"measure\",\"particularly\",\"totally\",\"suddenly\",\"action\",\"college\",\"higher\",\"code\",\"eventually\",\"democracy\",\"among\",\"minute\",\"sit\",\"largest\",\"hospital\",\"showing\",\"notice\",\"period\",\"develop\",\"mass\",\"dream\",\"onto\",\"add\",\"break\",\"plants\",\"memory\",\"favorite\",\"zero\",\"11\",\"everywhere\",\"moved\",\"response\",\"speed\",\"schools\",\"wants\",\"movie\",\"individuals\",\"wait\",\"extremely\",\"table\",\"medicine\",\"anyway\",\"trust\",\"follow\",\"plant\",\"biggest\",\"watching\",\"organization\",\"road\",\"creative\",\"choose\",\"worse\",\"results\",\"500\",\"lead\",\"exciting\",\"grew\",\"materials\",\"jobs\",\"plan\",\"east\",\"positive\",\"poverty\",\"safe\",\"strong\",\"fall\",\"essentially\",\"door\",\"object\",\"continue\",\"happiness\",\"further\",\"vision\",\"son\",\"student\",\"doctor\",\"including\",\"objects\",\"named\",\"role\",\"extraordinary\",\"standing\",\"usually\",\"conversation\",\"african\",\"projects\",\"skin\",\"leaders\",\"models\",\"allowed\",\"supposed\",\"interest\",\"faster\",\"families\",\"fight\",\"police\",\"connected\",\"tree\",\"5\",\"cases\",\"screen\",\"goal\",\"somewhere\",\"buildings\",\"shown\",\"finding\"],\"x1\":{\"__ndarray__\":\"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\",\"dtype\":\"float64\",\"shape\":[1000]},\"x2\":{\"__ndarray__\":\"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\",\"dtype\":\"float64\",\"shape\":[1000]}}},\"id\":\"4f95534f-c38c-45e1-ad9b-e8dfd7a6d1e3\",\"type\":\"ColumnDataSource\"},{\"attributes\":{\"fill_alpha\":{\"value\":0.1},\"fill_color\":{\"value\":\"#1f77b4\"},\"line_alpha\":{\"value\":0.1},\"line_color\":{\"value\":\"#1f77b4\"},\"size\":{\"units\":\"screen\",\"value\":8},\"x\":{\"field\":\"x1\"},\"y\":{\"field\":\"x2\"}},\"id\":\"efe402b6-b99d-45c3-9efa-f5ff875097b5\",\"type\":\"Circle\"},{\"attributes\":{},\"id\":\"75041c30-aa21-475d-8d3f-ab826b78f6bc\",\"type\":\"BasicTicker\"},{\"attributes\":{\"plot\":{\"id\":\"1ac1f0c3-7c79-4ce9-b26d-082b3166f6b9\",\"subtype\":\"Figure\",\"type\":\"Plot\"},\"source\":{\"id\":\"4f95534f-c38c-45e1-ad9b-e8dfd7a6d1e3\",\"type\":\"ColumnDataSource\"},\"text\":{\"field\":\"names\"},\"text_align\":\"center\",\"text_color\":{\"value\":\"#555555\"},\"text_font_size\":{\"value\":\"8pt\"},\"x\":{\"field\":\"x1\"},\"y\":{\"field\":\"x2\"},\"y_offset\":{\"value\":6}},\"id\":\"e8136b8f-6c64-46d3-8b9e-df673ecdbbd5\",\"type\":\"LabelSet\"},{\"attributes\":{\"plot\":{\"id\":\"1ac1f0c3-7c79-4ce9-b26d-082b3166f6b9\",\"subtype\":\"Figure\",\"type\":\"Plot\"}},\"id\":\"7f9d59cb-ea59-4e7b-8c36-bc88f9f13bf3\",\"type\":\"PanTool\"},{\"attributes\":{\"active_drag\":\"auto\",\"active_scroll\":\"auto\",\"active_tap\":\"auto\",\"tools\":[{\"id\":\"7f9d59cb-ea59-4e7b-8c36-bc88f9f13bf3\",\"type\":\"PanTool\"},{\"id\":\"8ec2ba32-a467-4fee-b663-0921d2a6a9cf\",\"type\":\"WheelZoomTool\"},{\"id\":\"27dd2960-6564-45ed-884f-ac66be21d2a3\",\"type\":\"ResetTool\"},{\"id\":\"ce3f6371-9603-4291-a650-6bdcfe54b5ed\",\"type\":\"SaveTool\"}]},\"id\":\"b9fdd027-8025-46ec-9bdc-18aaa7ea3abe\",\"type\":\"Toolbar\"},{\"attributes\":{},\"id\":\"22137f22-c7d1-4247-aab1-602ca85eedbb\",\"type\":\"BasicTicker\"},{\"attributes\":{\"plot\":{\"id\":\"1ac1f0c3-7c79-4ce9-b26d-082b3166f6b9\",\"subtype\":\"Figure\",\"type\":\"Plot\"}},\"id\":\"ce3f6371-9603-4291-a650-6bdcfe54b5ed\",\"type\":\"SaveTool\"},{\"attributes\":{\"fill_color\":{\"value\":\"#1f77b4\"},\"line_color\":{\"value\":\"#1f77b4\"},\"size\":{\"units\":\"screen\",\"value\":8},\"x\":{\"field\":\"x1\"},\"y\":{\"field\":\"x2\"}},\"id\":\"ae5ac14d-23f0-4079-9641-a70d7dc3d30c\",\"type\":\"Circle\"},{\"attributes\":{},\"id\":\"efb57266-6a72-44d2-827c-bde1ad32c630\",\"type\":\"BasicTickFormatter\"},{\"attributes\":{},\"id\":\"be6b8620-eb2e-4eb3-bbe3-130ace814da9\",\"type\":\"BasicTickFormatter\"},{\"attributes\":{\"dimension\":1,\"plot\":{\"id\":\"1ac1f0c3-7c79-4ce9-b26d-082b3166f6b9\",\"subtype\":\"Figure\",\"type\":\"Plot\"},\"ticker\":{\"id\":\"22137f22-c7d1-4247-aab1-602ca85eedbb\",\"type\":\"BasicTicker\"}},\"id\":\"0be4840e-428b-42a6-8ac3-c290cf928caa\",\"type\":\"Grid\"}],\"root_ids\":[\"1ac1f0c3-7c79-4ce9-b26d-082b3166f6b9\"]},\"title\":\"Bokeh Application\",\"version\":\"0.12.4\"}};\n",
       "            var render_items = [{\"docid\":\"555bcffa-2983-442a-a1dc-8555983797d3\",\"elementid\":\"c5970dbf-03e5-461f-b908-ec3c35a90d6c\",\"modelid\":\"1ac1f0c3-7c79-4ce9-b26d-082b3166f6b9\"}];\n",
       "            \n",
       "            Bokeh.embed.embed_items(docs_json, render_items);\n",
       "          };\n",
       "          if (document.readyState != \"loading\") fn();\n",
       "          else document.addEventListener(\"DOMContentLoaded\", fn);\n",
       "        })();\n",
       "      },\n",
       "      function(Bokeh) {\n",
       "      }\n",
       "    ];\n",
       "  \n",
       "    function run_inline_js() {\n",
       "      \n",
       "      if ((window.Bokeh !== undefined) || (force === true)) {\n",
       "        for (var i = 0; i < inline_js.length; i++) {\n",
       "          inline_js[i](window.Bokeh);\n",
       "        }if (force === true) {\n",
       "          display_loaded();\n",
       "        }} else if (Date.now() < window._bokeh_timeout) {\n",
       "        setTimeout(run_inline_js, 100);\n",
       "      } else if (!window._bokeh_failed_load) {\n",
       "        console.log(\"Bokeh: BokehJS failed to load within specified timeout.\");\n",
       "        window._bokeh_failed_load = true;\n",
       "      } else if (force !== true) {\n",
       "        var cell = $(document.getElementById(\"c5970dbf-03e5-461f-b908-ec3c35a90d6c\")).parents('.cell').data().cell;\n",
       "        cell.output_area.append_execute_result(NB_LOAD_WARNING)\n",
       "      }\n",
       "  \n",
       "    }\n",
       "  \n",
       "    if (window._bokeh_is_loading === 0) {\n",
       "      console.log(\"Bokeh: BokehJS loaded, going straight to plotting\");\n",
       "      run_inline_js();\n",
       "    } else {\n",
       "      load_libs(js_urls, function() {\n",
       "        console.log(\"Bokeh: BokehJS plotting callback run at\", now());\n",
       "        run_inline_js();\n",
       "      });\n",
       "    }\n",
       "  }(this));\n",
       "</script>"
      ]
     },
     "metadata": {},
     "output_type": "display_data"
    }
   ],
   "source": [
    "p = figure(tools=\"pan,wheel_zoom,reset,save\",\n",
    "           toolbar_location=\"above\",\n",
    "           title=\"word2vec T-SNE for most common words\")\n",
    "\n",
    "source = ColumnDataSource(data=dict(x1=words_top_ted_tsne[:,0],\n",
    "                                    x2=words_top_ted_tsne[:,1],\n",
    "                                    names=words_top_ted))\n",
    "\n",
    "p.scatter(x=\"x1\", y=\"x2\", size=8, source=source)\n",
    "\n",
    "labels = LabelSet(x=\"x1\", y=\"x2\", text=\"names\", y_offset=6,\n",
    "                  text_font_size=\"8pt\", text_color=\"#555555\",\n",
    "                  source=source, text_align='center')\n",
    "p.add_layout(labels)\n",
    "\n",
    "show(p)"
   ]
  },
  {
   "cell_type": "markdown",
   "metadata": {},
   "source": [
    "### Part 5: Wiki Learnt Representations"
   ]
  },
  {
   "cell_type": "markdown",
   "metadata": {},
   "source": [
    "Download dataset"
   ]
  },
  {
   "cell_type": "code",
   "execution_count": 99,
   "metadata": {
    "collapsed": true
   },
   "outputs": [],
   "source": [
    "if not os.path.isfile('wikitext-103-raw-v1.zip'):\n",
    "    urllib.request.urlretrieve(\"https://s3.amazonaws.com/research.metamind.io/wikitext/wikitext-103-raw-v1.zip\", filename=\"wikitext-103-raw-v1.zip\")"
   ]
  },
  {
   "cell_type": "code",
   "execution_count": 100,
   "metadata": {
    "collapsed": true
   },
   "outputs": [],
   "source": [
    "with zipfile.ZipFile('wikitext-103-raw-v1.zip', 'r') as z:\n",
    "    input_text = str(z.open('wikitext-103-raw/wiki.train.raw', 'r').read(), encoding='utf-8') # Thanks Robert Bastian"
   ]
  },
  {
   "cell_type": "markdown",
   "metadata": {},
   "source": [
    "Preprocess sentences (note that it's important to remove small sentences for performance)"
   ]
  },
  {
   "cell_type": "code",
   "execution_count": 101,
   "metadata": {
    "collapsed": true
   },
   "outputs": [],
   "source": [
    "sentences_wiki = []\n",
    "for line in input_text.split('\\n'):\n",
    "    s = [x for x in line.split('.') if x and len(x.split()) >= 5]\n",
    "    sentences_wiki.extend(s)\n",
    "    \n",
    "for s_i in range(len(sentences_wiki)):\n",
    "    sentences_wiki[s_i] = re.sub(\"[^a-z]\", \" \", sentences_wiki[s_i].lower())\n",
    "    sentences_wiki[s_i] = re.sub(r'\\([^)]*\\)', '', sentences_wiki[s_i])\n",
    "del input_text"
   ]
  },
  {
   "cell_type": "code",
   "execution_count": 102,
   "metadata": {},
   "outputs": [
    {
     "name": "stdout",
     "output_type": "stream",
     "text": [
      "4267112\n",
      "853422\n"
     ]
    }
   ],
   "source": [
    "# sample 1/5 of the data\n",
    "shuffle(sentences_wiki)\n",
    "print(len(sentences_wiki))\n",
    "sentences_wiki = sentences_wiki[:int(len(sentences_wiki)/5)]\n",
    "print(len(sentences_wiki))"
   ]
  },
  {
   "cell_type": "markdown",
   "metadata": {},
   "source": [
    "Now, repeat all the same steps that you performed above. You should be able to reuse essentially all the code."
   ]
  },
  {
   "cell_type": "code",
   "execution_count": 103,
   "metadata": {
    "collapsed": true
   },
   "outputs": [],
   "source": [
    "sentences_token_wiki = [re.sub(r\"[^a-z0-9]+\", \" \", token.lower()).split() for token in sentences_wiki]\n",
    "wiki_counter = Counter([word for sent in sentences_token_wiki for word in sent])\n",
    "words_top_wiki = [pair[0] for pair in wiki_counter.most_common(1000)]\n",
    "model_wiki = Word2Vec(sentences_token_wiki)"
   ]
  },
  {
   "cell_type": "markdown",
   "metadata": {},
   "source": [
    "#### t-SNE visualization"
   ]
  },
  {
   "cell_type": "code",
   "execution_count": 104,
   "metadata": {
    "collapsed": true
   },
   "outputs": [],
   "source": [
    "# This assumes words_top_wiki is a list of strings, the top 1000 words\n",
    "words_top_vec_wiki = model_wiki[words_top_wiki]\n",
    "\n",
    "tsne = TSNE(n_components=2, random_state=0)\n",
    "words_top_wiki_tsne = tsne.fit_transform(words_top_vec_wiki)"
   ]
  },
  {
   "cell_type": "code",
   "execution_count": 105,
   "metadata": {},
   "outputs": [
    {
     "data": {
      "text/html": [
       "\n",
       "\n",
       "    <div class=\"bk-root\">\n",
       "        <div class=\"bk-plotdiv\" id=\"080863c1-4c0a-4a89-a296-5cc040db7341\"></div>\n",
       "    </div>\n",
       "<script type=\"text/javascript\">\n",
       "  \n",
       "  (function(global) {\n",
       "    function now() {\n",
       "      return new Date();\n",
       "    }\n",
       "  \n",
       "    var force = false;\n",
       "  \n",
       "    if (typeof (window._bokeh_onload_callbacks) === \"undefined\" || force === true) {\n",
       "      window._bokeh_onload_callbacks = [];\n",
       "      window._bokeh_is_loading = undefined;\n",
       "    }\n",
       "  \n",
       "  \n",
       "    \n",
       "    if (typeof (window._bokeh_timeout) === \"undefined\" || force === true) {\n",
       "      window._bokeh_timeout = Date.now() + 0;\n",
       "      window._bokeh_failed_load = false;\n",
       "    }\n",
       "  \n",
       "    var NB_LOAD_WARNING = {'data': {'text/html':\n",
       "       \"<div style='background-color: #fdd'>\\n\"+\n",
       "       \"<p>\\n\"+\n",
       "       \"BokehJS does not appear to have successfully loaded. If loading BokehJS from CDN, this \\n\"+\n",
       "       \"may be due to a slow or bad network connection. Possible fixes:\\n\"+\n",
       "       \"</p>\\n\"+\n",
       "       \"<ul>\\n\"+\n",
       "       \"<li>re-rerun `output_notebook()` to attempt to load from CDN again, or</li>\\n\"+\n",
       "       \"<li>use INLINE resources instead, as so:</li>\\n\"+\n",
       "       \"</ul>\\n\"+\n",
       "       \"<code>\\n\"+\n",
       "       \"from bokeh.resources import INLINE\\n\"+\n",
       "       \"output_notebook(resources=INLINE)\\n\"+\n",
       "       \"</code>\\n\"+\n",
       "       \"</div>\"}};\n",
       "  \n",
       "    function display_loaded() {\n",
       "      if (window.Bokeh !== undefined) {\n",
       "        document.getElementById(\"080863c1-4c0a-4a89-a296-5cc040db7341\").textContent = \"BokehJS successfully loaded.\";\n",
       "      } else if (Date.now() < window._bokeh_timeout) {\n",
       "        setTimeout(display_loaded, 100)\n",
       "      }\n",
       "    }\n",
       "  \n",
       "    function run_callbacks() {\n",
       "      window._bokeh_onload_callbacks.forEach(function(callback) { callback() });\n",
       "      delete window._bokeh_onload_callbacks\n",
       "      console.info(\"Bokeh: all callbacks have finished\");\n",
       "    }\n",
       "  \n",
       "    function load_libs(js_urls, callback) {\n",
       "      window._bokeh_onload_callbacks.push(callback);\n",
       "      if (window._bokeh_is_loading > 0) {\n",
       "        console.log(\"Bokeh: BokehJS is being loaded, scheduling callback at\", now());\n",
       "        return null;\n",
       "      }\n",
       "      if (js_urls == null || js_urls.length === 0) {\n",
       "        run_callbacks();\n",
       "        return null;\n",
       "      }\n",
       "      console.log(\"Bokeh: BokehJS not loaded, scheduling load and callback at\", now());\n",
       "      window._bokeh_is_loading = js_urls.length;\n",
       "      for (var i = 0; i < js_urls.length; i++) {\n",
       "        var url = js_urls[i];\n",
       "        var s = document.createElement('script');\n",
       "        s.src = url;\n",
       "        s.async = false;\n",
       "        s.onreadystatechange = s.onload = function() {\n",
       "          window._bokeh_is_loading--;\n",
       "          if (window._bokeh_is_loading === 0) {\n",
       "            console.log(\"Bokeh: all BokehJS libraries loaded\");\n",
       "            run_callbacks()\n",
       "          }\n",
       "        };\n",
       "        s.onerror = function() {\n",
       "          console.warn(\"failed to load library \" + url);\n",
       "        };\n",
       "        console.log(\"Bokeh: injecting script tag for BokehJS library: \", url);\n",
       "        document.getElementsByTagName(\"head\")[0].appendChild(s);\n",
       "      }\n",
       "    };var element = document.getElementById(\"080863c1-4c0a-4a89-a296-5cc040db7341\");\n",
       "    if (element == null) {\n",
       "      console.log(\"Bokeh: ERROR: autoload.js configured with elementid '080863c1-4c0a-4a89-a296-5cc040db7341' but no matching script tag was found. \")\n",
       "      return false;\n",
       "    }\n",
       "  \n",
       "    var js_urls = [];\n",
       "  \n",
       "    var inline_js = [\n",
       "      function(Bokeh) {\n",
       "        (function() {\n",
       "          var fn = function() {\n",
       "            var docs_json = {\"8e7a05ba-38df-4de5-9412-cf06653b1a90\":{\"roots\":{\"references\":[{\"attributes\":{},\"id\":\"db0c2d21-c67b-4093-80ca-32ca1868fdcb\",\"type\":\"BasicTickFormatter\"},{\"attributes\":{\"dimension\":1,\"plot\":{\"id\":\"1cb988e7-a4a6-4ce2-8152-929ebc28792d\",\"subtype\":\"Figure\",\"type\":\"Plot\"},\"ticker\":{\"id\":\"762e89e6-ddcf-4a58-aa60-1d497dc31220\",\"type\":\"BasicTicker\"}},\"id\":\"8a848aab-192a-41c6-855f-4b74f8091899\",\"type\":\"Grid\"},{\"attributes\":{\"plot\":{\"id\":\"1cb988e7-a4a6-4ce2-8152-929ebc28792d\",\"subtype\":\"Figure\",\"type\":\"Plot\"}},\"id\":\"ad63f339-9c99-47fd-b1e4-7854a20ba731\",\"type\":\"SaveTool\"},{\"attributes\":{\"plot\":{\"id\":\"1cb988e7-a4a6-4ce2-8152-929ebc28792d\",\"subtype\":\"Figure\",\"type\":\"Plot\"},\"source\":{\"id\":\"8ac8f9fb-c17e-4753-b1e3-b301357ddb00\",\"type\":\"ColumnDataSource\"},\"text\":{\"field\":\"names\"},\"text_align\":\"center\",\"text_color\":{\"value\":\"#555555\"},\"text_font_size\":{\"value\":\"8pt\"},\"x\":{\"field\":\"x1\"},\"y\":{\"field\":\"x2\"},\"y_offset\":{\"value\":6}},\"id\":\"2196e145-5082-479f-bc84-e0b70de9abbb\",\"type\":\"LabelSet\"},{\"attributes\":{\"data_source\":{\"id\":\"8ac8f9fb-c17e-4753-b1e3-b301357ddb00\",\"type\":\"ColumnDataSource\"},\"glyph\":{\"id\":\"31e497e7-3691-466b-bcd2-5b13cb525b84\",\"type\":\"Circle\"},\"hover_glyph\":null,\"nonselection_glyph\":{\"id\":\"a2e86f5c-6cfd-491e-bd22-89292576d03c\",\"type\":\"Circle\"},\"selection_glyph\":null},\"id\":\"32a59231-ff85-4761-8ec2-f8355031d593\",\"type\":\"GlyphRenderer\"},{\"attributes\":{\"plot\":{\"id\":\"1cb988e7-a4a6-4ce2-8152-929ebc28792d\",\"subtype\":\"Figure\",\"type\":\"Plot\"},\"ticker\":{\"id\":\"b3b21ba3-8311-46ab-b772-abb8e60c1045\",\"type\":\"BasicTicker\"}},\"id\":\"6efb89e4-2f93-4ff1-93b4-f7ee0ddee51f\",\"type\":\"Grid\"},{\"attributes\":{\"plot\":{\"id\":\"1cb988e7-a4a6-4ce2-8152-929ebc28792d\",\"subtype\":\"Figure\",\"type\":\"Plot\"}},\"id\":\"5c405fde-983f-4fa3-bf8f-bc1fe1b15daf\",\"type\":\"WheelZoomTool\"},{\"attributes\":{\"fill_color\":{\"value\":\"#1f77b4\"},\"line_color\":{\"value\":\"#1f77b4\"},\"size\":{\"units\":\"screen\",\"value\":8},\"x\":{\"field\":\"x1\"},\"y\":{\"field\":\"x2\"}},\"id\":\"31e497e7-3691-466b-bcd2-5b13cb525b84\",\"type\":\"Circle\"},{\"attributes\":{\"fill_alpha\":{\"value\":0.1},\"fill_color\":{\"value\":\"#1f77b4\"},\"line_alpha\":{\"value\":0.1},\"line_color\":{\"value\":\"#1f77b4\"},\"size\":{\"units\":\"screen\",\"value\":8},\"x\":{\"field\":\"x1\"},\"y\":{\"field\":\"x2\"}},\"id\":\"a2e86f5c-6cfd-491e-bd22-89292576d03c\",\"type\":\"Circle\"},{\"attributes\":{\"formatter\":{\"id\":\"db0c2d21-c67b-4093-80ca-32ca1868fdcb\",\"type\":\"BasicTickFormatter\"},\"plot\":{\"id\":\"1cb988e7-a4a6-4ce2-8152-929ebc28792d\",\"subtype\":\"Figure\",\"type\":\"Plot\"},\"ticker\":{\"id\":\"b3b21ba3-8311-46ab-b772-abb8e60c1045\",\"type\":\"BasicTicker\"}},\"id\":\"e13cbb22-b91e-4d21-95f5-80c3ca87451a\",\"type\":\"LinearAxis\"},{\"attributes\":{\"below\":[{\"id\":\"e13cbb22-b91e-4d21-95f5-80c3ca87451a\",\"type\":\"LinearAxis\"}],\"left\":[{\"id\":\"76309d59-47af-4bd8-aa0b-b4e4963bdb0f\",\"type\":\"LinearAxis\"}],\"renderers\":[{\"id\":\"e13cbb22-b91e-4d21-95f5-80c3ca87451a\",\"type\":\"LinearAxis\"},{\"id\":\"6efb89e4-2f93-4ff1-93b4-f7ee0ddee51f\",\"type\":\"Grid\"},{\"id\":\"76309d59-47af-4bd8-aa0b-b4e4963bdb0f\",\"type\":\"LinearAxis\"},{\"id\":\"8a848aab-192a-41c6-855f-4b74f8091899\",\"type\":\"Grid\"},{\"id\":\"32a59231-ff85-4761-8ec2-f8355031d593\",\"type\":\"GlyphRenderer\"},{\"id\":\"2196e145-5082-479f-bc84-e0b70de9abbb\",\"type\":\"LabelSet\"}],\"title\":{\"id\":\"02cea412-3a73-48d6-956d-f16f5a57446a\",\"type\":\"Title\"},\"tool_events\":{\"id\":\"33cb4132-0bd1-42c5-9a99-3f2e21bf29e3\",\"type\":\"ToolEvents\"},\"toolbar\":{\"id\":\"036a456a-97dc-45c0-b5d5-64491be7167f\",\"type\":\"Toolbar\"},\"toolbar_location\":\"above\",\"x_range\":{\"id\":\"8cd26cd5-3202-4120-baae-8aec12b741af\",\"type\":\"DataRange1d\"},\"y_range\":{\"id\":\"cf78563d-4b0c-48f3-ae06-381df99a3b85\",\"type\":\"DataRange1d\"}},\"id\":\"1cb988e7-a4a6-4ce2-8152-929ebc28792d\",\"subtype\":\"Figure\",\"type\":\"Plot\"},{\"attributes\":{\"active_drag\":\"auto\",\"active_scroll\":\"auto\",\"active_tap\":\"auto\",\"tools\":[{\"id\":\"18d832e0-2252-40d9-83ba-298f2dcba530\",\"type\":\"PanTool\"},{\"id\":\"5c405fde-983f-4fa3-bf8f-bc1fe1b15daf\",\"type\":\"WheelZoomTool\"},{\"id\":\"db190007-182b-4f31-a48d-e4a8f20c36e1\",\"type\":\"ResetTool\"},{\"id\":\"ad63f339-9c99-47fd-b1e4-7854a20ba731\",\"type\":\"SaveTool\"}]},\"id\":\"036a456a-97dc-45c0-b5d5-64491be7167f\",\"type\":\"Toolbar\"},{\"attributes\":{\"callback\":null},\"id\":\"cf78563d-4b0c-48f3-ae06-381df99a3b85\",\"type\":\"DataRange1d\"},{\"attributes\":{\"callback\":null},\"id\":\"8cd26cd5-3202-4120-baae-8aec12b741af\",\"type\":\"DataRange1d\"},{\"attributes\":{\"plot\":{\"id\":\"1cb988e7-a4a6-4ce2-8152-929ebc28792d\",\"subtype\":\"Figure\",\"type\":\"Plot\"}},\"id\":\"db190007-182b-4f31-a48d-e4a8f20c36e1\",\"type\":\"ResetTool\"},{\"attributes\":{\"plot\":{\"id\":\"1cb988e7-a4a6-4ce2-8152-929ebc28792d\",\"subtype\":\"Figure\",\"type\":\"Plot\"}},\"id\":\"18d832e0-2252-40d9-83ba-298f2dcba530\",\"type\":\"PanTool\"},{\"attributes\":{\"callback\":null,\"column_names\":[\"names\",\"x2\",\"x1\"],\"data\":{\"names\":[\"the\",\"of\",\"and\",\"in\",\"to\",\"a\",\"was\",\"s\",\"on\",\"as\",\"for\",\"that\",\"with\",\"by\",\"is\",\"his\",\"at\",\"he\",\"it\",\"from\",\"were\",\"an\",\"had\",\"which\",\"be\",\"this\",\"but\",\"are\",\"first\",\"not\",\"their\",\"after\",\"one\",\"her\",\"also\",\"its\",\"they\",\"two\",\"or\",\"have\",\"who\",\"new\",\"been\",\"has\",\"she\",\"when\",\"during\",\"time\",\"other\",\"would\",\"into\",\"all\",\"i\",\"more\",\"while\",\"over\",\"him\",\"game\",\"later\",\"only\",\"up\",\"most\",\"three\",\"about\",\"between\",\"out\",\"th\",\"than\",\"there\",\"film\",\"some\",\"may\",\"before\",\"year\",\"made\",\"no\",\"such\",\"second\",\"season\",\"where\",\"war\",\"world\",\"years\",\"however\",\"both\",\"then\",\"through\",\"song\",\"used\",\"being\",\"them\",\"these\",\"series\",\"against\",\"m\",\"album\",\"many\",\"city\",\"team\",\"part\",\"became\",\"united\",\"several\",\"number\",\"north\",\"well\",\"including\",\"can\",\"under\",\"four\",\"early\",\"state\",\"day\",\"music\",\"so\",\"south\",\"following\",\"episode\",\"said\",\"states\",\"although\",\"american\",\"did\",\"known\",\"could\",\"work\",\"until\",\"began\",\"because\",\"released\",\"like\",\"t\",\"called\",\"high\",\"people\",\"end\",\"since\",\"british\",\"around\",\"long\",\"each\",\"found\",\"national\",\"same\",\"best\",\"life\",\"if\",\"september\",\"million\",\"back\",\"west\",\"along\",\"us\",\"show\",\"took\",\"another\",\"five\",\"use\",\"you\",\"km\",\"final\",\"area\",\"august\",\"any\",\"off\",\"group\",\"century\",\"received\",\"october\",\"school\",\"what\",\"john\",\"due\",\"line\",\"system\",\"will\",\"government\",\"march\",\"games\",\"june\",\"east\",\"november\",\"july\",\"single\",\"home\",\"general\",\"third\",\"set\",\"april\",\"large\",\"based\",\"left\",\"major\",\"much\",\"down\",\"york\",\"house\",\"family\",\"played\",\"army\",\"company\",\"place\",\"december\",\"just\",\"king\",\"january\",\"now\",\"road\",\"six\",\"we\",\"band\",\"included\",\"wrote\",\"led\",\"name\",\"character\",\"history\",\"won\",\"last\",\"near\",\"within\",\"times\",\"river\",\"main\",\"according\",\"d\",\"death\",\"late\",\"described\",\"named\",\"air\",\"own\",\"release\",\"next\",\"st\",\"battle\",\"de\",\"men\",\"video\",\"make\",\"record\",\"those\",\"league\",\"still\",\"production\",\"very\",\"way\",\"man\",\"route\",\"top\",\"great\",\"species\",\"original\",\"even\",\"february\",\"ship\",\"though\",\"u\",\"force\",\"small\",\"again\",\"public\",\"days\",\"old\",\"storm\",\"built\",\"club\",\"among\",\"play\",\"held\",\"role\",\"do\",\"having\",\"further\",\"university\",\"division\",\"match\",\"story\",\"book\",\"french\",\"side\",\"b\",\"white\",\"service\",\"members\",\"german\",\"continued\",\"power\",\"water\",\"point\",\"career\",\"often\",\"player\",\"order\",\"local\",\"park\",\"h\",\"came\",\"former\",\"black\",\"england\",\"despite\",\"town\",\"considered\",\"party\",\"without\",\"county\",\"half\",\"island\",\"support\",\"different\",\"take\",\"written\",\"development\",\"few\",\"version\",\"form\",\"given\",\"period\",\"moved\",\"c\",\"military\",\"become\",\"songs\",\"lost\",\"court\",\"tropical\",\"english\",\"president\",\"country\",\"london\",\"little\",\"forces\",\"ii\",\"building\",\"re\",\"similar\",\"international\",\"my\",\"lead\",\"church\",\"track\",\"tour\",\"class\",\"gave\",\"street\",\"performance\",\"using\",\"n\",\"returned\",\"children\",\"short\",\"went\",\"attack\",\"produced\",\"position\",\"royal\",\"week\",\"land\",\"good\",\"never\",\"recorded\",\"published\",\"run\",\"live\",\"television\",\"stated\",\"highway\",\"father\",\"include\",\"aircraft\",\"western\",\"total\",\"ships\",\"per\",\"control\",\"women\",\"star\",\"how\",\"fire\",\"right\",\"throughout\",\"love\",\"me\",\"making\",\"upon\",\"less\",\"once\",\"design\",\"light\",\"australia\",\"characters\",\"central\",\"age\",\"himself\",\"rock\",\"head\",\"station\",\"died\",\"instead\",\"young\",\"ten\",\"players\",\"result\",\"months\",\"away\",\"remained\",\"across\",\"red\",\"title\",\"ft\",\"seven\",\"political\",\"writing\",\"sea\",\"e\",\"center\",\"eight\",\"law\",\"office\",\"james\",\"low\",\"developed\",\"southern\",\"r\",\"return\",\"too\",\"previous\",\"night\",\"various\",\"race\",\"eventually\",\"areas\",\"field\",\"reported\",\"noted\",\"felt\",\"william\",\"range\",\"america\",\"hurricane\",\"announced\",\"followed\",\"style\",\"college\",\"win\",\"reached\",\"created\",\"should\",\"construction\",\"sent\",\"son\",\"performed\",\"seen\",\"miles\",\"together\",\"japanese\",\"act\",\"served\",\"full\",\"award\",\"northern\",\"member\",\"appeared\",\"taken\",\"mm\",\"campaign\",\"body\",\"started\",\"killed\",\"australian\",\"able\",\"thought\",\"level\",\"established\",\"originally\",\"born\",\"common\",\"points\",\"post\",\"front\",\"features\",\"works\",\"success\",\"stage\",\"caused\",\"action\",\"george\",\"others\",\"chart\",\"located\",\"football\",\"project\",\"playing\",\"formed\",\"rather\",\"site\",\"every\",\"get\",\"bridge\",\"special\",\"critics\",\"fourth\",\"sold\",\"present\",\"addition\",\"behind\",\"modern\",\"saw\",\"championship\",\"added\",\"go\",\"close\",\"feet\",\"f\",\"heavy\",\"soon\",\"o\",\"decided\",\"director\",\"david\",\"strong\",\"see\",\"awards\",\"ground\",\"completed\",\"damage\",\"initially\",\"non\",\"command\",\"region\",\"case\",\"opened\",\"important\",\"population\",\"popular\",\"scene\",\"free\",\"eastern\",\"art\",\"fleet\",\"working\",\"almost\",\"open\",\"weeks\",\"france\",\"guns\",\"hall\",\"michael\",\"leading\",\"event\",\"coast\",\"kingdom\",\"mi\",\"henry\",\"ever\",\"recording\",\"l\",\"provided\",\"worked\",\"training\",\"sound\",\"towards\",\"union\",\"cup\",\"scored\",\"mother\",\"wanted\",\"records\",\"either\",\"generally\",\"help\",\"runs\",\"least\",\"average\",\"co\",\"events\",\"washington\",\"victory\",\"brought\",\"put\",\"does\",\"magazine\",\"wife\",\"allowed\",\"featured\",\"navy\",\"example\",\"studio\",\"placed\",\"hit\",\"summer\",\"troops\",\"far\",\"designed\",\"start\",\"saying\",\"human\",\"robert\",\"list\",\"joined\",\"nine\",\"mid\",\"europe\",\"media\",\"believed\",\"finished\",\"possible\",\"council\",\"official\",\"japan\",\"brown\",\"society\",\"opening\",\"significant\",\"radio\",\"month\",\"involved\",\"al\",\"replaced\",\"european\",\"hours\",\"particularly\",\"earlier\",\"squadron\",\"association\",\"met\",\"police\",\"minutes\",\"successful\",\"big\",\"operation\",\"base\",\"outside\",\"going\",\"mph\",\"beginning\",\"films\",\"rest\",\"highest\",\"forced\",\"units\",\"test\",\"change\",\"section\",\"largest\",\"cast\",\"shot\",\"come\",\"review\",\"x\",\"passed\",\"increased\",\"research\",\"additional\",\"process\",\"praised\",\"available\",\"real\",\"must\",\"social\",\"relationship\",\"thus\",\"captain\",\"hill\",\"middle\",\"ended\",\"crew\",\"thomas\",\"community\",\"taking\",\"above\",\"move\",\"stone\",\"better\",\"round\",\"rights\",\"turned\",\"gold\",\"goal\",\"previously\",\"reviews\",\"san\",\"signed\",\"business\",\"chief\",\"elements\",\"space\",\"appearance\",\"charles\",\"castle\",\"enough\",\"canada\",\"staff\",\"lower\",\"program\",\"winds\",\"female\",\"cross\",\"plan\",\"told\",\"ordered\",\"committee\",\"itself\",\"parts\",\"lake\",\"board\",\"find\",\"interest\",\"give\",\"election\",\"lines\",\"musical\",\"future\",\"failed\",\"critical\",\"type\",\"attempt\",\"california\",\"entire\",\"gun\",\"smith\",\"infantry\",\"don\",\"spent\",\"news\",\"g\",\"overall\",\"india\",\"money\",\"person\",\"brother\",\"positive\",\"cover\",\"paul\",\"directed\",\"v\",\"germany\",\"district\",\"grand\",\"required\",\"term\",\"hand\",\"press\",\"room\",\"square\",\"prior\",\"indian\",\"evidence\",\"reception\",\"usually\",\"surface\",\"education\",\"movement\",\"idea\",\"quickly\",\"personal\",\"groups\",\"whose\",\"background\",\"battalion\",\"port\",\"our\",\"green\",\"asked\",\"services\",\"sometimes\",\"novel\",\"turn\",\"food\",\"minister\",\"loss\",\"whom\",\"claimed\",\"p\",\"already\",\"uk\",\"limited\",\"plot\",\"la\",\"arrived\",\"flight\",\"debut\",\"industry\",\"response\",\"effects\",\"complete\",\"past\",\"introduced\",\"bill\",\"woman\",\"shows\",\"richard\",\"centre\",\"study\",\"peter\",\"issue\",\"governor\",\"remaining\",\"score\",\"ny\",\"voice\",\"car\",\"length\",\"speed\",\"students\",\"k\",\"bay\",\"especially\",\"stars\",\"blue\",\"shortly\",\"date\",\"defeated\",\"episodes\",\"pressure\",\"larger\",\"teams\",\"scenes\",\"queen\",\"earth\",\"science\",\"naval\",\"commander\",\"anti\",\"living\",\"mark\",\"structure\",\"writer\",\"becoming\",\"view\",\"fifth\",\"daughter\",\"suggested\",\"changes\",\"leaving\",\"decision\",\"estimated\",\"today\",\"village\",\"los\",\"britain\",\"virginia\",\"department\",\"empire\",\"depression\",\"cut\",\"dark\",\"latter\",\"might\",\"network\",\"carried\",\"report\",\"material\",\"self\",\"islands\",\"approximately\",\"influence\",\"winning\",\"spanish\",\"hot\",\"finally\",\"professional\",\"brigade\",\"chicago\",\"entered\",\"percent\",\"appointed\",\"commercial\",\"helped\",\"operations\",\"running\",\"destroyed\",\"nearly\",\"fans\",\"child\",\"lack\",\"language\",\"wide\",\"god\",\"regular\",\"pop\",\"higher\",\"nd\",\"museum\",\"manager\",\"civil\",\"current\",\"experience\",\"planned\",\"soviet\",\"nature\",\"railway\",\"supported\",\"intended\",\"fact\",\"tracks\",\"married\",\"course\",\"agreed\",\"provide\",\"awarded\",\"done\",\"contract\",\"subsequently\",\"associated\",\"face\",\"natural\",\"leader\",\"appear\",\"related\",\"officer\",\"size\",\"friends\",\"fort\",\"proposed\",\"producer\",\"longer\",\"health\",\"chinese\",\"effect\",\"ball\",\"probably\",\"guitar\",\"minor\",\"numerous\",\"changed\",\"trade\",\"compared\",\"soldiers\",\"upper\",\"buildings\",\"federal\",\"initial\",\"cost\",\"lord\",\"remains\",\"jackson\",\"create\",\"captured\",\"location\",\"private\",\"pacific\",\"officers\",\"whether\",\"immediately\",\"plans\",\"regiment\",\"edward\",\"lyrics\",\"j\",\"mixed\",\"conference\",\"books\",\"corps\",\"really\",\"yet\",\"extended\",\"something\",\"friend\",\"feature\",\"your\",\"themselves\",\"atlantic\",\"billboard\",\"copies\",\"key\",\"singles\",\"johnson\",\"always\",\"forward\",\"cm\",\"edition\",\"pre\",\"suffered\",\"singer\",\"status\",\"problems\",\"countries\",\"winter\",\"mostly\",\"moving\",\"energy\",\"offered\",\"via\",\"ran\",\"difficult\",\"texas\",\"increase\",\"wind\",\"christian\",\"dance\",\"inspired\",\"information\",\"meeting\",\"know\",\"includes\",\"goals\",\"fight\",\"roman\"],\"x1\":{\"__ndarray__\":\"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\",\"dtype\":\"float64\",\"shape\":[1000]},\"x2\":{\"__ndarray__\":\"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\",\"dtype\":\"float64\",\"shape\":[1000]}}},\"id\":\"8ac8f9fb-c17e-4753-b1e3-b301357ddb00\",\"type\":\"ColumnDataSource\"},{\"attributes\":{\"formatter\":{\"id\":\"5baf73bc-338f-4a74-97c7-14d6eb432c70\",\"type\":\"BasicTickFormatter\"},\"plot\":{\"id\":\"1cb988e7-a4a6-4ce2-8152-929ebc28792d\",\"subtype\":\"Figure\",\"type\":\"Plot\"},\"ticker\":{\"id\":\"762e89e6-ddcf-4a58-aa60-1d497dc31220\",\"type\":\"BasicTicker\"}},\"id\":\"76309d59-47af-4bd8-aa0b-b4e4963bdb0f\",\"type\":\"LinearAxis\"},{\"attributes\":{},\"id\":\"33cb4132-0bd1-42c5-9a99-3f2e21bf29e3\",\"type\":\"ToolEvents\"},{\"attributes\":{},\"id\":\"5baf73bc-338f-4a74-97c7-14d6eb432c70\",\"type\":\"BasicTickFormatter\"},{\"attributes\":{},\"id\":\"762e89e6-ddcf-4a58-aa60-1d497dc31220\",\"type\":\"BasicTicker\"},{\"attributes\":{\"plot\":null,\"text\":\"word2vec T-SNE for most common words\"},\"id\":\"02cea412-3a73-48d6-956d-f16f5a57446a\",\"type\":\"Title\"},{\"attributes\":{},\"id\":\"b3b21ba3-8311-46ab-b772-abb8e60c1045\",\"type\":\"BasicTicker\"}],\"root_ids\":[\"1cb988e7-a4a6-4ce2-8152-929ebc28792d\"]},\"title\":\"Bokeh Application\",\"version\":\"0.12.4\"}};\n",
       "            var render_items = [{\"docid\":\"8e7a05ba-38df-4de5-9412-cf06653b1a90\",\"elementid\":\"080863c1-4c0a-4a89-a296-5cc040db7341\",\"modelid\":\"1cb988e7-a4a6-4ce2-8152-929ebc28792d\"}];\n",
       "            \n",
       "            Bokeh.embed.embed_items(docs_json, render_items);\n",
       "          };\n",
       "          if (document.readyState != \"loading\") fn();\n",
       "          else document.addEventListener(\"DOMContentLoaded\", fn);\n",
       "        })();\n",
       "      },\n",
       "      function(Bokeh) {\n",
       "      }\n",
       "    ];\n",
       "  \n",
       "    function run_inline_js() {\n",
       "      \n",
       "      if ((window.Bokeh !== undefined) || (force === true)) {\n",
       "        for (var i = 0; i < inline_js.length; i++) {\n",
       "          inline_js[i](window.Bokeh);\n",
       "        }if (force === true) {\n",
       "          display_loaded();\n",
       "        }} else if (Date.now() < window._bokeh_timeout) {\n",
       "        setTimeout(run_inline_js, 100);\n",
       "      } else if (!window._bokeh_failed_load) {\n",
       "        console.log(\"Bokeh: BokehJS failed to load within specified timeout.\");\n",
       "        window._bokeh_failed_load = true;\n",
       "      } else if (force !== true) {\n",
       "        var cell = $(document.getElementById(\"080863c1-4c0a-4a89-a296-5cc040db7341\")).parents('.cell').data().cell;\n",
       "        cell.output_area.append_execute_result(NB_LOAD_WARNING)\n",
       "      }\n",
       "  \n",
       "    }\n",
       "  \n",
       "    if (window._bokeh_is_loading === 0) {\n",
       "      console.log(\"Bokeh: BokehJS loaded, going straight to plotting\");\n",
       "      run_inline_js();\n",
       "    } else {\n",
       "      load_libs(js_urls, function() {\n",
       "        console.log(\"Bokeh: BokehJS plotting callback run at\", now());\n",
       "        run_inline_js();\n",
       "      });\n",
       "    }\n",
       "  }(this));\n",
       "</script>"
      ]
     },
     "metadata": {},
     "output_type": "display_data"
    }
   ],
   "source": [
    "p = figure(tools=\"pan,wheel_zoom,reset,save\",\n",
    "           toolbar_location=\"above\",\n",
    "           title=\"word2vec T-SNE for most common words\")\n",
    "\n",
    "source = ColumnDataSource(data=dict(x1=words_top_wiki_tsne[:,0],\n",
    "                                    x2=words_top_wiki_tsne[:,1],\n",
    "                                    names=words_top_wiki))\n",
    "\n",
    "p.scatter(x=\"x1\", y=\"x2\", size=8, source=source)\n",
    "\n",
    "labels = LabelSet(x=\"x1\", y=\"x2\", text=\"names\", y_offset=6,\n",
    "                  text_font_size=\"8pt\", text_color=\"#555555\",\n",
    "                  source=source, text_align='center')\n",
    "p.add_layout(labels)\n",
    "\n",
    "show(p)"
   ]
  }
 ],
 "metadata": {
  "anaconda-cloud": {},
  "kernelspec": {
   "display_name": "Python 3",
   "language": "python",
   "name": "python3"
  },
  "language_info": {
   "codemirror_mode": {
    "name": "ipython",
    "version": 3
   },
   "file_extension": ".py",
   "mimetype": "text/x-python",
   "name": "python",
   "nbconvert_exporter": "python",
   "pygments_lexer": "ipython3",
   "version": "3.5.2"
  }
 },
 "nbformat": 4,
 "nbformat_minor": 1
}
